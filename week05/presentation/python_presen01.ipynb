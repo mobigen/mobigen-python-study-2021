{
 "cells": [
  {
   "cell_type": "markdown",
   "id": "789d0174",
   "metadata": {},
   "source": [
    "# chapter 3. Data Type\n",
    "\n",
    "## 1. datetime - 기본 날짜와 시간 형\n",
    "\n",
    "### 날짜와 시간은 파이썬에서 기본으로 제공하는 자료형에 포함되어 있지 않지만, 데이터 분석에 있어 빠질 수 없는 중요한 자료형입니다. 날짜와 시간에 관련된 기능을 제공하는 패키지는 다음과 같습니다."
   ]
  },
  {
   "cell_type": "markdown",
   "id": "891da45a",
   "metadata": {},
   "source": [
    " ### 👆from 과 import 의 차이는 무엇일까?\n",
    "\n",
    "#### - import만 사용하면 모듈안의 함수를 사용할 때에 모듈명.함수명( ) 형태로 사용하고, from 을 사용하면 바로 함수명( ) 이렇게만 사용이 가능하다.\n",
    "\n",
    "#### - import os &nbsp;&nbsp;&nbsp;&nbsp;&nbsp;&nbsp;&nbsp; ⇒ 함수 사용시 os.listdir( )라고 입력해야함.  \n",
    "#### &nbsp;&nbsp;&nbsp;&nbsp;&nbsp;&nbsp; (listdir() : 현재 디렉토리에 있는 모든 파일(디렉토리) 리스트를 가져오는 함수)\n",
    "\n",
    "#### - from os import *&nbsp;&nbsp;&nbsp;&nbsp;&nbsp;&nbsp;&nbsp;&nbsp;&nbsp;&nbsp;&nbsp;&nbsp;⇒ os 모듈 내의 모든 메소드 사용 가능. 와일드 임포트라고 부름.\n",
    "\n",
    "#### - from os import listdir &nbsp;&nbsp; ⇒ 함수를 단 한개 가져올 때 사용한다.\n",
    "\n",
    "#### - from openyxl import Workbook  \n",
    "#### &nbsp;&nbsp;&nbsp;&nbsp;&nbsp;&nbsp;wb = Workbook( ) &nbsp;&nbsp;⇒ Workbook 클래스로 wb라는 인스턴스 생성\n",
    "\n",
    "#### - 이처럼 모듈 안에는 함수 뿐 아니라, 변수나 클래스도 존재하고 이걸 import로 가져다 사용함."
   ]
  },
  {
   "cell_type": "markdown",
   "id": "5060a5b6",
   "metadata": {},
   "source": [
    "### (1 ) datetime 클래스\n",
    "\n",
    "### 이 클래스의 객체는 년월일 정보를 담고 있는 객체 입니다."
   ]
  },
  {
   "cell_type": "code",
   "execution_count": 8,
   "id": "0ec4a895",
   "metadata": {
    "scrolled": false
   },
   "outputs": [
    {
     "name": "stdout",
     "output_type": "stream",
     "text": [
      "2021-07-12\n",
      "0\n",
      "--------------------------------\n",
      "2021\n",
      "7\n",
      "12\n",
      "--------------------------------\n",
      "2021-07-12 00:22:24.247049\n",
      "--------------------------------\n"
     ]
    }
   ],
   "source": [
    "from datetime import date\n",
    "#오늘 날짜 불러오기\n",
    "today = date.today()       #2021-07-01 형식\n",
    "print(today)\n",
    "print(today.weekday())     # 0(월) ~ 6(일)\n",
    "print('--------------------------------')\n",
    "print(today.year)          # 년, 월, 일 따로 추출 가능 -> 반환값은 int 타입\n",
    "print(today.month)\n",
    "print(today.day)\n",
    "print('--------------------------------')\n",
    "\n",
    "# 현재 날짜, 시간 불러오기\n",
    "from datetime import datetime   # datetime.datetime 함수\n",
    "now = datetime.now()             # 2021-07-01  09:02:51 .023939 형식\n",
    "print(now)\n",
    "print('--------------------------------')"
   ]
  },
  {
   "cell_type": "markdown",
   "id": "bf7fa4b8",
   "metadata": {},
   "source": [
    "### * strftime( ) 사용하여 원하는 형식으로 불러오기 (%Y, Ym, %d, %H, %M, %s)\n",
    "#### 📍 다향한 형태의 포맷의 문자열 변환을 가능하게 해주며, String 형으로 반환됩니다."
   ]
  },
  {
   "cell_type": "code",
   "execution_count": 10,
   "id": "ec530522",
   "metadata": {
    "scrolled": false
   },
   "outputs": [
    {
     "name": "stdout",
     "output_type": "stream",
     "text": [
      "2021  07  12\n"
     ]
    }
   ],
   "source": [
    "result = now.strftime('%Y  %m  %d')   # 20210701\n",
    "print(result)"
   ]
  },
  {
   "cell_type": "markdown",
   "id": "2c53c859",
   "metadata": {},
   "source": [
    "### * strptime( ) 사용하여 특정 포멧의 문자열을 time_struct 타입으로 변환하기\n",
    "#### 📍 strftime() 함수와 정반대로 특정 포멧의 문자열을 time_struct 타입으로 변환을 해줍니다."
   ]
  },
  {
   "cell_type": "code",
   "execution_count": 16,
   "id": "2691629b",
   "metadata": {},
   "outputs": [
    {
     "name": "stdout",
     "output_type": "stream",
     "text": [
      "time.struct_time(tm_year=2021, tm_mon=7, tm_mday=11, tm_hour=15, tm_min=43, tm_sec=21, tm_wday=6, tm_yday=192, tm_isdst=0)\n"
     ]
    }
   ],
   "source": [
    "import time\n",
    "\n",
    "tm = time.gmtime(1626018201.188874)\n",
    "print(tm)"
   ]
  },
  {
   "cell_type": "markdown",
   "id": "a3eb5786",
   "metadata": {},
   "source": [
    " ### 👆time_struct 클래스는 무엇일까?"
   ]
  },
  {
   "cell_type": "code",
   "execution_count": 15,
   "id": "c663aed9",
   "metadata": {},
   "outputs": [
    {
     "name": "stdout",
     "output_type": "stream",
     "text": [
      "1626018201.188874\n"
     ]
    }
   ],
   "source": [
    "import time\n",
    "\n",
    "secs = time.time()\n",
    "print(secs)"
   ]
  },
  {
   "cell_type": "markdown",
   "id": "1953d4f8",
   "metadata": {},
   "source": [
    "<b> 📍 timestamp의 값인 '1626017846.2489069'의 값을 보고 우리는 무슨 날짜와 시간을 나타내는지 쉽게 알아보기가 힘듭니다.</b>  \n",
    "<b> 따라서, time 모듈은 timestamp가 주어졌을 때, 날짜와 시간을 알아내기 위한 API를 제공하는데,</b>  \n",
    "<b> 이 때, 내부적으로 날짜와 시간을 알아내기 위한 9개의 속성을 갖는 time_struct 클래스를 사용합니다."
   ]
  },
  {
   "attachments": {
    "vvv.PNG": {
     "image/png": "[encoded data removed]"
    }
   },
   "cell_type": "markdown",
   "id": "10978d81",
   "metadata": {},
   "source": [
    "![vvv.PNG](attachment:vvv.PNG)"
   ]
  },
  {
   "cell_type": "markdown",
   "id": "6c6eb73b",
   "metadata": {},
   "source": [
    "### * string을 date 객체로 변환하기\n",
    "#### 📍 주의점은 문자열 입력 시 '20201-07-02' 형태만 가능하고, '2021-7-2' 와 같은 형식은 처리가 안됨"
   ]
  },
  {
   "cell_type": "code",
   "execution_count": 9,
   "id": "334a3df6",
   "metadata": {},
   "outputs": [
    {
     "data": {
      "text/plain": [
       "datetime.date"
      ]
     },
     "execution_count": 9,
     "metadata": {},
     "output_type": "execute_result"
    }
   ],
   "source": [
    "type(today.fromisoformat('2021-07-02'))"
   ]
  },
  {
   "cell_type": "markdown",
   "id": "ba4aef2f",
   "metadata": {},
   "source": [
    "### ( 2 ) dateutil 패키지\n",
    "\n",
    "### 사용자가 문자열에 맞는 형식 문자열을 제공하지 않아도 parse 함수를 사용하여 자동으로 형식 문자열을 찾아 datetime 클래스 객체로 만들어주는 것이 특징"
   ]
  },
  {
   "cell_type": "code",
   "execution_count": 2,
   "id": "769896e6",
   "metadata": {},
   "outputs": [
    {
     "name": "stdout",
     "output_type": "stream",
     "text": [
      "2021-07-01 00:00:00\n",
      "-----------------------\n",
      "2020-07-16 16:05:32\n",
      "-----------------------\n",
      "2021-07-02 00:00:00\n"
     ]
    }
   ],
   "source": [
    "from dateutil.parser import parse\n",
    "date = parse('2021-07-01')\n",
    "print(date)\n",
    "\n",
    "print('-----------------------')\n",
    "\n",
    "date = parse(\"Jul 16, 2020 04:05:32 PM\")\n",
    "print(date)\n",
    "\n",
    "print('-----------------------')\n",
    "\n",
    "date = parse('7/2/2021')\n",
    "print(date)"
   ]
  },
  {
   "cell_type": "markdown",
   "id": "48f0d96b",
   "metadata": {},
   "source": [
    "### ( 3 ) timedelta 클래스\n",
    "\n",
    "### 날짜나 시간의 간격을 구하고자 할 때는 두 개의 datetime 클래스 객체의 차이를 구합니다.  \n",
    "<b>(이 결과는 timedelta 클래스 객체로 반환)</b>"
   ]
  },
  {
   "cell_type": "code",
   "execution_count": 6,
   "id": "db9bc35f",
   "metadata": {},
   "outputs": [
    {
     "name": "stdout",
     "output_type": "stream",
     "text": [
      "2021-07-12\n",
      "----------------------\n",
      "2021-08-31\n"
     ]
    }
   ],
   "source": [
    "import datetime\n",
    "today = datetime.date.today()\n",
    "print(today)\n",
    "\n",
    "print('----------------------')\n",
    "\n",
    "diff_days = datetime.timedelta(days=50) # 50일 후의 날짜를 구하겠다\n",
    "print(today + diff_days)                # 마찬가지로 50일 전의 날짜면 today - diff_days 사용"
   ]
  },
  {
   "cell_type": "markdown",
   "id": "8430ca3b",
   "metadata": {},
   "source": [
    "### timedelta의 단점은 날짜와 초 단위로만 연산을 할 수 있다는 점이다. 이를 보완하기 위해 dateutil 패키지를 사용하는데 이는 월 단위의 계산을 지원하는 relativedelta 클래스를 제공한다.\n",
    "### 사용 예시 )"
   ]
  },
  {
   "cell_type": "code",
   "execution_count": 20,
   "id": "544155af",
   "metadata": {},
   "outputs": [
    {
     "name": "stdout",
     "output_type": "stream",
     "text": [
      "2021-09-02\n"
     ]
    }
   ],
   "source": [
    "from dateutil.relativedelta import relativedelta\n",
    "print(today + relativedelta(months=2))       # 2달 후를 계산."
   ]
  },
  {
   "cell_type": "markdown",
   "id": "242dc12f",
   "metadata": {},
   "source": [
    "### ( 4 ) time 패키지\n",
    "\n",
    "<b> time 패키지는 실행을 잠시 멈추는 sleep 함수를 제공한다. sleep 함수에 n이라는 숫자를 인수로 주면 n초만큼 쉬었다가 다음 코드를 실행한다.</b>"
   ]
  },
  {
   "cell_type": "code",
   "execution_count": 23,
   "id": "56e1b51d",
   "metadata": {},
   "outputs": [
    {
     "name": "stdout",
     "output_type": "stream",
     "text": [
      "1\n",
      "2\n",
      "3\n"
     ]
    }
   ],
   "source": [
    "import time\n",
    "\n",
    "print(1)\n",
    "\n",
    "time.sleep(2)\n",
    "\n",
    "print(2)\n",
    "\n",
    "time.sleep(2)\n",
    "\n",
    "print(3)"
   ]
  },
  {
   "cell_type": "markdown",
   "id": "92c302ff",
   "metadata": {},
   "source": [
    "\n",
    "\n",
    "\n",
    "## 2. calender - 일반 달력 관련 함수\n",
    "\n",
    "#### 📍 calender 함수에 인자로 출력을 원하는 연도를 넘겨준다. 넘겨받은 연도의 달력을 반환해준다.\n",
    "#### 📍 함수의 호출만으로는 보이지 않고, 반환받은 값은 print를 해주어야한다. "
   ]
  },
  {
   "cell_type": "code",
   "execution_count": 5,
   "id": "1fe0dad8",
   "metadata": {},
   "outputs": [
    {
     "name": "stdout",
     "output_type": "stream",
     "text": [
      "                                  2021\n",
      "\n",
      "      January                   February                   March\n",
      "Mo Tu We Th Fr Sa Su      Mo Tu We Th Fr Sa Su      Mo Tu We Th Fr Sa Su\n",
      "             1  2  3       1  2  3  4  5  6  7       1  2  3  4  5  6  7\n",
      " 4  5  6  7  8  9 10       8  9 10 11 12 13 14       8  9 10 11 12 13 14\n",
      "11 12 13 14 15 16 17      15 16 17 18 19 20 21      15 16 17 18 19 20 21\n",
      "18 19 20 21 22 23 24      22 23 24 25 26 27 28      22 23 24 25 26 27 28\n",
      "25 26 27 28 29 30 31                                29 30 31\n",
      "\n",
      "       April                      May                       June\n",
      "Mo Tu We Th Fr Sa Su      Mo Tu We Th Fr Sa Su      Mo Tu We Th Fr Sa Su\n",
      "          1  2  3  4                      1  2          1  2  3  4  5  6\n",
      " 5  6  7  8  9 10 11       3  4  5  6  7  8  9       7  8  9 10 11 12 13\n",
      "12 13 14 15 16 17 18      10 11 12 13 14 15 16      14 15 16 17 18 19 20\n",
      "19 20 21 22 23 24 25      17 18 19 20 21 22 23      21 22 23 24 25 26 27\n",
      "26 27 28 29 30            24 25 26 27 28 29 30      28 29 30\n",
      "                          31\n",
      "\n",
      "        July                     August                  September\n",
      "Mo Tu We Th Fr Sa Su      Mo Tu We Th Fr Sa Su      Mo Tu We Th Fr Sa Su\n",
      "          1  2  3  4                         1             1  2  3  4  5\n",
      " 5  6  7  8  9 10 11       2  3  4  5  6  7  8       6  7  8  9 10 11 12\n",
      "12 13 14 15 16 17 18       9 10 11 12 13 14 15      13 14 15 16 17 18 19\n",
      "19 20 21 22 23 24 25      16 17 18 19 20 21 22      20 21 22 23 24 25 26\n",
      "26 27 28 29 30 31         23 24 25 26 27 28 29      27 28 29 30\n",
      "                          30 31\n",
      "\n",
      "      October                   November                  December\n",
      "Mo Tu We Th Fr Sa Su      Mo Tu We Th Fr Sa Su      Mo Tu We Th Fr Sa Su\n",
      "             1  2  3       1  2  3  4  5  6  7             1  2  3  4  5\n",
      " 4  5  6  7  8  9 10       8  9 10 11 12 13 14       6  7  8  9 10 11 12\n",
      "11 12 13 14 15 16 17      15 16 17 18 19 20 21      13 14 15 16 17 18 19\n",
      "18 19 20 21 22 23 24      22 23 24 25 26 27 28      20 21 22 23 24 25 26\n",
      "25 26 27 28 29 30 31      29 30                     27 28 29 30 31\n",
      "\n"
     ]
    }
   ],
   "source": [
    "import calendar\n",
    "cal = calendar.calendar(2021)\n",
    "print(cal)"
   ]
  },
  {
   "cell_type": "markdown",
   "id": "d0b01dc4",
   "metadata": {},
   "source": [
    "### * prmonth : 특정 연도의 월에 대한 달력을 보여준다."
   ]
  },
  {
   "cell_type": "code",
   "execution_count": 8,
   "id": "70e127c2",
   "metadata": {},
   "outputs": [
    {
     "name": "stdout",
     "output_type": "stream",
     "text": [
      "     July 2021\n",
      "Mo Tu We Th Fr Sa Su\n",
      "          1  2  3  4\n",
      " 5  6  7  8  9 10 11\n",
      "12 13 14 15 16 17 18\n",
      "19 20 21 22 23 24 25\n",
      "26 27 28 29 30 31\n"
     ]
    }
   ],
   "source": [
    "import calendar\n",
    "calendar.prmonth(2021, 7)"
   ]
  },
  {
   "cell_type": "markdown",
   "id": "bbd46596",
   "metadata": {},
   "source": [
    "### * weekday : 특정 년월일을 인자로 받아 그 날짜에 해당하는 요일 정보를 리턴한다. \n",
    "#### 요일 정보는 월요일부터 0, 화요일 1, ... 일요일 6이다."
   ]
  },
  {
   "cell_type": "code",
   "execution_count": 12,
   "id": "dbf76ddf",
   "metadata": {},
   "outputs": [
    {
     "name": "stdout",
     "output_type": "stream",
     "text": [
      "5\n"
     ]
    }
   ],
   "source": [
    "import calendar\n",
    "weekday = calendar.weekday(2021,7, 3)\n",
    "print(weekday)"
   ]
  },
  {
   "cell_type": "markdown",
   "id": "3c603fc2",
   "metadata": {},
   "source": [
    "### * monthrange : 연도와 월을 넘겨받아 그 달의 1일이 무슨 요일인지와 그 달이 몇일까지 있는지를 튜플 형태로 반환한다."
   ]
  },
  {
   "cell_type": "code",
   "execution_count": 14,
   "id": "3cee3b2e",
   "metadata": {},
   "outputs": [
    {
     "name": "stdout",
     "output_type": "stream",
     "text": [
      "(4, 31)\n"
     ]
    }
   ],
   "source": [
    "import calendar\n",
    "monmon = calendar.monthrange(2021, 1)\n",
    "print(monmon)"
   ]
  },
  {
   "cell_type": "markdown",
   "id": "c08bd8fe",
   "metadata": {},
   "source": [
    "####  📍 금요일이니까 4가 나오고, 1월은 31일까지 있으니까 (4, 31)이 출력됨을 볼 수 있다."
   ]
  },
  {
   "cell_type": "markdown",
   "id": "82876dcd",
   "metadata": {},
   "source": [
    "  \n",
    " --- \n",
    "  \n",
    "## 3. pprint  - 예쁜 프린터 인쇄기\n",
    "### * pretty print를 의미하며 데이터를 예쁘고 보기 좋게 출력해주는 모듈 입니다.\n",
    "### * 복잡한 구조를 지닌 json 형태의 데이터들을 디버깅 용도로 출력할때 자주 사용합니다."
   ]
  },
  {
   "cell_type": "code",
   "execution_count": 21,
   "id": "2647d82c",
   "metadata": {},
   "outputs": [
    {
     "name": "stdout",
     "output_type": "stream",
     "text": [
      "[{'job': '청소원', 'company': '주식회사 고', 'ssn': '780820-1284721', 'residence': '강원도 성남시 삼성가 (은정이동)', 'blood_group': 'B-', 'username': 'hyeonsugmun', 'name': '오정남', 'sex': 'M', 'address': '광주광역시 관악 구 역삼283길 (은경노이리)', 'mail': 'ci@daum.net'}, {'job': '패션 디자이너', 'company': '(유) 곽', 'ssn': '790726-2477976', 'residence': '서울특별시 강남구 테헤란로 (우진김김동)', 'blood_group': 'B+', 'username': 'jangyeongceol', 'name': '이지훈', 'sex': 'M', 'address': '강원도 안산시 상록구 언주길 (수민김김읍)', 'mail': 'sanghun69@nate.com'}, {'job': '미용사', 'company': '최박', 'ssn': '040125-1449947', 'residence': '인천광역시 관악구 백제고분길 (성 호백김리)', 'blood_group': 'AB+', 'username': 'hyeonjeonghan', 'name': '이춘자', 'sex': 'F', 'address': '충청북도 양주시 반포대4길', 'mail': 'kgweon@hanmail.net'}]\n"
     ]
    }
   ],
   "source": [
    "my_dic = [{'job': '청소원', 'company': '주식회사 고', 'ssn': '780820-1284721', 'residence': '강원도 성남시 삼성가 (은정이동)', 'blood_group': 'B-', 'username': 'hyeonsugmun', 'name': '오정남', 'sex': 'M', 'address': '광주광역시 관악 구 역삼283길 (은경노이리)', 'mail': 'ci@daum.net'}, {'job': '패션 디자이너', 'company': '(유) 곽', 'ssn': '790726-2477976', 'residence': '서울특별시 강남구 테헤란로 (우진김김동)', 'blood_group': 'B+', 'username': 'jangyeongceol', 'name': '이지훈', 'sex': 'M', 'address': '강원도 안산시 상록구 언주길 (수민김김읍)', 'mail': 'sanghun69@nate.com'}, {'job': '미용사', 'company': '최박', 'ssn': '040125-1449947', 'residence': '인천광역시 관악구 백제고분길 (성 호백김리)', 'blood_group': 'AB+', 'username': 'hyeonjeonghan', 'name': '이춘자', 'sex': 'F', 'address': '충청북도 양주시 반포대4길', 'mail': 'kgweon@hanmail.net'}]\n",
    "print(my_dic)"
   ]
  },
  {
   "cell_type": "code",
   "execution_count": 24,
   "id": "917e7e9d",
   "metadata": {},
   "outputs": [
    {
     "name": "stdout",
     "output_type": "stream",
     "text": [
      "[{'address': '광주광역시 관악 구 역삼283길 (은경노이리)',\n",
      "  'blood_group': 'B-',\n",
      "  'company': '주식회사 고',\n",
      "  'job': '청소원',\n",
      "  'mail': 'ci@daum.net',\n",
      "  'name': '오정남',\n",
      "  'residence': '강원도 성남시 삼성가 (은정이동)',\n",
      "  'sex': 'M',\n",
      "  'ssn': '780820-1284721',\n",
      "  'username': 'hyeonsugmun'},\n",
      " {'address': '강원도 안산시 상록구 언주길 (수민김김읍)',\n",
      "  'blood_group': 'B+',\n",
      "  'company': '(유) 곽',\n",
      "  'job': '패션 디자이너',\n",
      "  'mail': 'sanghun69@nate.com',\n",
      "  'name': '이지훈',\n",
      "  'residence': '서울특별시 강남구 테헤란로 (우진김김동)',\n",
      "  'sex': 'M',\n",
      "  'ssn': '790726-2477976',\n",
      "  'username': 'jangyeongceol'},\n",
      " {'address': '충청북도 양주시 반포대4길',\n",
      "  'blood_group': 'AB+',\n",
      "  'company': '최박',\n",
      "  'job': '미용사',\n",
      "  'mail': 'kgweon@hanmail.net',\n",
      "  'name': '이춘자',\n",
      "  'residence': '인천광역시 관악구 백제고분길 (성 호백김리)',\n",
      "  'sex': 'F',\n",
      "  'ssn': '040125-1449947',\n",
      "  'username': 'hyeonjeonghan'}]\n"
     ]
    }
   ],
   "source": [
    "from pprint import pprint\n",
    "my_dic = [{'job': '청소원', 'company': '주식회사 고', 'ssn': '780820-1284721', 'residence': '강원도 성남시 삼성가 (은정이동)', 'blood_group': 'B-', 'username': 'hyeonsugmun', 'name': '오정남', 'sex': 'M', 'address': '광주광역시 관악 구 역삼283길 (은경노이리)', 'mail': 'ci@daum.net'}, {'job': '패션 디자이너', 'company': '(유) 곽', 'ssn': '790726-2477976', 'residence': '서울특별시 강남구 테헤란로 (우진김김동)', 'blood_group': 'B+', 'username': 'jangyeongceol', 'name': '이지훈', 'sex': 'M', 'address': '강원도 안산시 상록구 언주길 (수민김김읍)', 'mail': 'sanghun69@nate.com'}, {'job': '미용사', 'company': '최박', 'ssn': '040125-1449947', 'residence': '인천광역시 관악구 백제고분길 (성 호백김리)', 'blood_group': 'AB+', 'username': 'hyeonjeonghan', 'name': '이춘자', 'sex': 'F', 'address': '충청북도 양주시 반포대4길', 'mail': 'kgweon@hanmail.net'}]\n",
    "pprint(my_dic)"
   ]
  }
 ],
 "metadata": {
  "kernelspec": {
   "display_name": "Python 3",
   "language": "python",
   "name": "python3"
  },
  "language_info": {
   "codemirror_mode": {
    "name": "ipython",
    "version": 3
   },
   "file_extension": ".py",
   "mimetype": "text/x-python",
   "name": "python",
   "nbconvert_exporter": "python",
   "pygments_lexer": "ipython3",
   "version": "3.7.2"
  }
 },
 "nbformat": 4,
 "nbformat_minor": 5
}
