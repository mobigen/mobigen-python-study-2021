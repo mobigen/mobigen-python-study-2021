{
 "cells": [
  {
   "cell_type": "markdown",
   "id": "e5ca7d3f",
   "metadata": {},
   "source": [
    "  \n",
    "  ---\n",
    "    \n",
    "\n",
    "## 4. graphlib - 그래프와 유사한 구조에 작동하는 기능"
   ]
  },
  {
   "cell_type": "markdown",
   "id": "ba3f12be",
   "metadata": {},
   "source": [
    "### 📍 graphlib.TopologicalSorter은 위상정렬을 위한 클래스 입니다.\n",
    "### 📍 그래프의 꼭짓점들을 변의 방향을 거스르지 않고 나열하는것을 의미하며, 싸이클이 없는 그래프여야 합니다.  \n",
    "  \n",
    "  \n",
    "  \n",
    "### 예시 )"
   ]
  },
  {
   "cell_type": "markdown",
   "id": "5043ce6e",
   "metadata": {},
   "source": [
    "#### 영어초급, 영어중급, 영어고급, 영어문법, 영어회화  \n",
    "#### 위의 5가지 과목을 순서를 지켜 수업을 들어야한다고 한다.  \n",
    "  \n",
    "  \n",
    "* <b>규칙1</b> : 영어초급 -> 영어중급 -> 영어고급\n",
    "* <b>규칙2</b> : 영어중급 -> 영어문법 -> 영어고급\n",
    "* <b>규칙3</b> : 영어문법 -> 영어회화  \n",
    "  \n",
    "#### Q. 5가지 과목을 어떤 순서로 수강해야 할까요?"
   ]
  },
  {
   "attachments": {
    "vvv2.PNG": {
     "image/png": "[encoded data removed]"
    }
   },
   "cell_type": "markdown",
   "id": "6e411ed0",
   "metadata": {},
   "source": [
    "![vvv2.PNG](attachment:vvv2.PNG)"
   ]
  },
  {
   "cell_type": "markdown",
   "id": "404c37f1",
   "metadata": {},
   "source": [
    "#### 이 때, graphlib의 TopologicalSorter을 사용하면 편리합니다."
   ]
  },
  {
   "cell_type": "code",
   "execution_count": 1,
   "id": "8fb388a0",
   "metadata": {},
   "outputs": [
    {
     "name": "stdout",
     "output_type": "stream",
     "text": [
      "['영어초급', '영어중급', '영어문법', '영어고급', '영어회화']\n"
     ]
    }
   ],
   "source": [
    "from graphlib import TopologicalSorter\n",
    "\n",
    "ts = TopologicalSorter()\n",
    "\n",
    "# 규칙1\n",
    "ts.add('영어중급', '영어초급')  # 영어중급의 선수과목은 영어초급\n",
    "ts.add('영어고급', '영어중급')  # 영어고급의 선수과목은 영어중급\n",
    "\n",
    "# 규칙2\n",
    "ts.add('영어문법', '영어중급')  # 영어문법의 선수과목은 영어중급\n",
    "ts.add('영어고급', '영어문법')  # 영어고급의 선수과목은 영어문법\n",
    "\n",
    "# 규칙3\n",
    "ts.add('영어회화', '영어문법')  # 영어회화의 선수과목은 영어문법\n",
    "\n",
    "print(list(ts.static_order()))  # 위상정렬한 결과를 출력"
   ]
  },
  {
   "cell_type": "markdown",
   "id": "d45204cc",
   "metadata": {},
   "source": [
    "####  📍 핵심인 **add(노드, *선행노드)** 함수는 어떤 노드의 선행노드를 추가할 때 사용하는 함수입니다.  \n",
    "#### 📍 선행노드는 1개 이상도 가능하며, ts.add('영어고급' ,  '영어중급' ,  '영어문법') 처럼 사용 가능합니다."
   ]
  },
  {
   "cell_type": "markdown",
   "id": "edd80b28",
   "metadata": {},
   "source": [
    "#### 하지만 만약에, 영어문법 -> 영어회화 -> 영어중급 순으로 구간이 순화하게 된다면, "
   ]
  },
  {
   "attachments": {
    "vv1.PNG": {
     "image/png": "[encoded data removed]"
    }
   },
   "cell_type": "markdown",
   "id": "15fdd9b3",
   "metadata": {},
   "source": [
    "![vv1.PNG](attachment:vv1.PNG)"
   ]
  },
  {
   "cell_type": "code",
   "execution_count": 11,
   "id": "f7d61b21",
   "metadata": {},
   "outputs": [
    {
     "ename": "CycleError",
     "evalue": "('nodes are in a cycle', ['영어중급', '영어문법', '영어회화', '영어중급'])",
     "output_type": "error",
     "traceback": [
      "\u001b[1;31m---------------------------------------------------------------------------\u001b[0m",
      "\u001b[1;31mCycleError\u001b[0m                                Traceback (most recent call last)",
      "\u001b[1;32m~\\AppData\\Local\\Temp/ipykernel_18876/3062784935.py\u001b[0m in \u001b[0;36m<module>\u001b[1;34m\u001b[0m\n\u001b[0;32m     15\u001b[0m \u001b[0mts\u001b[0m\u001b[1;33m.\u001b[0m\u001b[0madd\u001b[0m\u001b[1;33m(\u001b[0m\u001b[1;34m'영어회화'\u001b[0m\u001b[1;33m,\u001b[0m \u001b[1;34m'영어문법'\u001b[0m\u001b[1;33m)\u001b[0m\u001b[1;33m\u001b[0m\u001b[1;33m\u001b[0m\u001b[0m\n\u001b[0;32m     16\u001b[0m \u001b[1;33m\u001b[0m\u001b[0m\n\u001b[1;32m---> 17\u001b[1;33m \u001b[0mprint\u001b[0m\u001b[1;33m(\u001b[0m\u001b[0mlist\u001b[0m\u001b[1;33m(\u001b[0m\u001b[0mts\u001b[0m\u001b[1;33m.\u001b[0m\u001b[0mstatic_order\u001b[0m\u001b[1;33m(\u001b[0m\u001b[1;33m)\u001b[0m\u001b[1;33m)\u001b[0m\u001b[1;33m)\u001b[0m  \u001b[1;31m# 위상정렬한 결과를 출력\u001b[0m\u001b[1;33m\u001b[0m\u001b[1;33m\u001b[0m\u001b[0m\n\u001b[0m",
      "\u001b[1;32mc:\\users\\user\\appdata\\local\\programs\\python\\python39\\lib\\graphlib.py\u001b[0m in \u001b[0;36mstatic_order\u001b[1;34m(self)\u001b[0m\n\u001b[0;32m    240\u001b[0m         \u001b[0mcycle\u001b[0m \u001b[1;32mis\u001b[0m \u001b[0mdetected\u001b[0m\u001b[1;33m,\u001b[0m \u001b[1;33m:\u001b[0m\u001b[0mexc\u001b[0m\u001b[1;33m:\u001b[0m\u001b[0;31m`\u001b[0m\u001b[0mCycleError\u001b[0m\u001b[0;31m`\u001b[0m \u001b[0mwill\u001b[0m \u001b[0mbe\u001b[0m \u001b[0mraised\u001b[0m\u001b[1;33m.\u001b[0m\u001b[1;33m\u001b[0m\u001b[1;33m\u001b[0m\u001b[0m\n\u001b[0;32m    241\u001b[0m         \"\"\"\n\u001b[1;32m--> 242\u001b[1;33m         \u001b[0mself\u001b[0m\u001b[1;33m.\u001b[0m\u001b[0mprepare\u001b[0m\u001b[1;33m(\u001b[0m\u001b[1;33m)\u001b[0m\u001b[1;33m\u001b[0m\u001b[1;33m\u001b[0m\u001b[0m\n\u001b[0m\u001b[0;32m    243\u001b[0m         \u001b[1;32mwhile\u001b[0m \u001b[0mself\u001b[0m\u001b[1;33m.\u001b[0m\u001b[0mis_active\u001b[0m\u001b[1;33m(\u001b[0m\u001b[1;33m)\u001b[0m\u001b[1;33m:\u001b[0m\u001b[1;33m\u001b[0m\u001b[1;33m\u001b[0m\u001b[0m\n\u001b[0;32m    244\u001b[0m             \u001b[0mnode_group\u001b[0m \u001b[1;33m=\u001b[0m \u001b[0mself\u001b[0m\u001b[1;33m.\u001b[0m\u001b[0mget_ready\u001b[0m\u001b[1;33m(\u001b[0m\u001b[1;33m)\u001b[0m\u001b[1;33m\u001b[0m\u001b[1;33m\u001b[0m\u001b[0m\n",
      "\u001b[1;32mc:\\users\\user\\appdata\\local\\programs\\python\\python39\\lib\\graphlib.py\u001b[0m in \u001b[0;36mprepare\u001b[1;34m(self)\u001b[0m\n\u001b[0;32m    102\u001b[0m         \u001b[0mcycle\u001b[0m \u001b[1;33m=\u001b[0m \u001b[0mself\u001b[0m\u001b[1;33m.\u001b[0m\u001b[0m_find_cycle\u001b[0m\u001b[1;33m(\u001b[0m\u001b[1;33m)\u001b[0m\u001b[1;33m\u001b[0m\u001b[1;33m\u001b[0m\u001b[0m\n\u001b[0;32m    103\u001b[0m         \u001b[1;32mif\u001b[0m \u001b[0mcycle\u001b[0m\u001b[1;33m:\u001b[0m\u001b[1;33m\u001b[0m\u001b[1;33m\u001b[0m\u001b[0m\n\u001b[1;32m--> 104\u001b[1;33m             \u001b[1;32mraise\u001b[0m \u001b[0mCycleError\u001b[0m\u001b[1;33m(\u001b[0m\u001b[1;34mf\"nodes are in a cycle\"\u001b[0m\u001b[1;33m,\u001b[0m \u001b[0mcycle\u001b[0m\u001b[1;33m)\u001b[0m\u001b[1;33m\u001b[0m\u001b[1;33m\u001b[0m\u001b[0m\n\u001b[0m\u001b[0;32m    105\u001b[0m \u001b[1;33m\u001b[0m\u001b[0m\n\u001b[0;32m    106\u001b[0m     \u001b[1;32mdef\u001b[0m \u001b[0mget_ready\u001b[0m\u001b[1;33m(\u001b[0m\u001b[0mself\u001b[0m\u001b[1;33m)\u001b[0m\u001b[1;33m:\u001b[0m\u001b[1;33m\u001b[0m\u001b[1;33m\u001b[0m\u001b[0m\n",
      "\u001b[1;31mCycleError\u001b[0m: ('nodes are in a cycle', ['영어중급', '영어문법', '영어회화', '영어중급'])"
     ]
    }
   ],
   "source": [
    "from graphlib import TopologicalSorter\n",
    "\n",
    "ts = TopologicalSorter()\n",
    "\n",
    "# 규칙1\n",
    "ts.add('영어중급', '영어초급')\n",
    "ts.add('영어고급', '영어중급')\n",
    "\n",
    "# 규칙2\n",
    "ts.add('영어문법', '영어중급')\n",
    "ts.add('영어고급', '영어문법')\n",
    "\n",
    "# 규칙3\n",
    "ts.add('영어중급', '영어회화')   #### 변경된 구간 --> cycle이 형성됨####\n",
    "ts.add('영어회화', '영어문법')\n",
    "\n",
    "print(list(ts.static_order()))  # 위상정렬한 결과를 출력"
   ]
  },
  {
   "cell_type": "markdown",
   "id": "4b38c9dc",
   "metadata": {},
   "source": [
    "#### - 출처 : https://wikidocs.net/106237"
   ]
  }
 ],
 "metadata": {
  "kernelspec": {
   "display_name": "Python 3",
   "language": "python",
   "name": "python3"
  },
  "language_info": {
   "codemirror_mode": {
    "name": "ipython",
    "version": 3
   },
   "file_extension": ".py",
   "mimetype": "text/x-python",
   "name": "python",
   "nbconvert_exporter": "python",
   "pygments_lexer": "ipython3",
   "version": "3.7.2"
  }
 },
 "nbformat": 4,
 "nbformat_minor": 5
}
