{
 "cells": [
  {
   "cell_type": "markdown",
   "id": "789d0174",
   "metadata": {},
   "source": [
    "# chapter 3. Data Type\n",
    "\n",
    "## 5. collections - 컨테이너 데이터형\n",
    "\n",
    "### collections 모듈은 다향한 자료구조인 리스트, 튜플, 딕셔너리 등을 확장 하여 제작된 파이썬의 내장 모듈이다.\n",
    "\n",
    "### 💡 deque\n",
    "### 💡 OrderedDict\n",
    "### 💡 defaultdic\n",
    "### 💡 Counter\n",
    "### 💡 namedtuple"
   ]
  },
  {
   "cell_type": "markdown",
   "id": "5060a5b6",
   "metadata": {},
   "source": [
    "### (1 ) deque 모듈\n",
    "\n",
    "### 이 모듈은 스택과 큐를 모두 지원하는 모듈입니다.\n",
    "### 리스트와 비슷한 형식으로 데이터를 저장하며, 먼저 append() 함수를 사용하여 기존 리스트처럼 데이터가 인덱스 번호를 늘리며 쌓이기 시작한다.  \n",
    "  \n",
    "#### 🔎 Q. deque를 사용할 때, 왜 list를 사용하지 않고 굳이 deque를 사용하는 이유는?\n",
    "<b>이유는 시간복잡도에 있습니다.  \n",
    "list는 배열의 형태이기때문에 index의 앞 부분에서 삽입, 삭제가 일어나기 때문에,  \n",
    "만약 1번쨰 요소를 지운다면 그 뒤의 모든 요소가 1칸씩 앞으로 당겨줘야해서 비효율적입니다.  \n",
    "그에 반해 양방향 삽입,삭제 구조인 deque는 간단하기 때문입니다.  \n",
    "list의 시간 복잡도는 O(n)이고 deque는 O(1) 입니다.</b>"
   ]
  },
  {
   "cell_type": "code",
   "execution_count": 7,
   "id": "0ec4a895",
   "metadata": {
    "scrolled": true
   },
   "outputs": [
    {
     "name": "stdout",
     "output_type": "stream",
     "text": [
      "deque([0, 1, 2, 3, 4])\n"
     ]
    }
   ],
   "source": [
    "# 요소 추가\n",
    "from collections import deque\n",
    "my_deque = deque()\n",
    "for i in range(5):\n",
    "    my_deque.append(i)\n",
    "    \n",
    "print(my_deque)  "
   ]
  },
  {
   "cell_type": "code",
   "execution_count": 8,
   "id": "44b56635",
   "metadata": {},
   "outputs": [
    {
     "name": "stdout",
     "output_type": "stream",
     "text": [
      "deque([0, 1, 2])\n"
     ]
    }
   ],
   "source": [
    "# 요소 추출\n",
    "my_deque.pop()\n",
    "my_deque.pop()\n",
    "\n",
    "print(my_deque)"
   ]
  },
  {
   "cell_type": "markdown",
   "id": "a497c677",
   "metadata": {},
   "source": [
    "### 1-2 ) 큐 구현 :  appendleft(), pop(), append(), popleft()\n",
    "<b> - 왼쪽에 값 입력 하고 싶다 -> appendleft()</b>  \n",
    "<b> - 왼쪽에 값을 뺴고 싶다 -> appendpop()</b>"
   ]
  },
  {
   "cell_type": "code",
   "execution_count": 28,
   "id": "769896e6",
   "metadata": {},
   "outputs": [
    {
     "name": "stdout",
     "output_type": "stream",
     "text": [
      "deque([4, 3, 2, 1, 0])\n"
     ]
    }
   ],
   "source": [
    "from collections import deque\n",
    "\n",
    "my_deque = deque()\n",
    "for i in range(5):\n",
    "    my_deque.appendleft(i)   # appendleft 함수를 사용하면 기존 append() 함수와 다르게 왼쪽으로 채워짐\n",
    "    \n",
    "print(my_deque)    "
   ]
  },
  {
   "cell_type": "code",
   "execution_count": 29,
   "id": "4f6af1d7",
   "metadata": {},
   "outputs": [
    {
     "name": "stdout",
     "output_type": "stream",
     "text": [
      "deque([2, 1, 0])\n"
     ]
    }
   ],
   "source": [
    "my_deque.popleft()\n",
    "my_deque.popleft()\n",
    "\n",
    "print(my_deque)  # 오른쪽이 아닌 왼쪽부터 요소 추출"
   ]
  },
  {
   "cell_type": "markdown",
   "id": "b5b40cd8",
   "metadata": {},
   "source": [
    "### 1-3 ) deque 확장 :  extend(), extendleft()\n",
    "<b> - deque를 확장할때 extend 메서드를 사용합니다. 기본은 오른쪽으로 확장됩니다.</b>  \n",
    "<b> - 왼쪽으로 확장하고 싶으면 extendleft() 메서드를 사용합니다.</b>"
   ]
  },
  {
   "cell_type": "code",
   "execution_count": 36,
   "id": "aa690faf",
   "metadata": {},
   "outputs": [
    {
     "name": "stdout",
     "output_type": "stream",
     "text": [
      "deque(['l', 'o', 'v', 'e', 'y', 'o', 'u'])\n"
     ]
    }
   ],
   "source": [
    "my_deque = deque(['l', 'o', 'v', 'e'])\n",
    "my_deque.extend('you')    # 오른쪽에 붙여짐\n",
    "\n",
    "print(my_deque)"
   ]
  },
  {
   "cell_type": "markdown",
   "id": "c3e1dcf5",
   "metadata": {},
   "source": [
    "### 1-4 ) 리스트처럼 사용 : insert(), remove()\n",
    "<b> - deque는 리스트처럼 중간 내용을 수정하거나 새 항목을 입력하거나 삭제할 수 있다."
   ]
  },
  {
   "cell_type": "code",
   "execution_count": 37,
   "id": "9cf4084a",
   "metadata": {},
   "outputs": [
    {
     "name": "stdout",
     "output_type": "stream",
     "text": [
      "--- 수정하기 ---\n",
      "deque(['L', 'o', 'v', 'e', 'y', 'o', 'u'])\n",
      "--- 추가하기 ---\n",
      "deque(['I', 'L', 'o', 'v', 'e', 'y', 'o', 'u'])\n",
      "--- 삭제하기 ---\n",
      "deque(['I', 'L', 'o', 'v', 'e', 'y', 'o', 'u', 'I'])\n",
      "deque(['L', 'o', 'v', 'e', 'y', 'o', 'u', 'I'])\n"
     ]
    }
   ],
   "source": [
    "print('--- 수정하기 ---')\n",
    "my_deque[0] = 'L'\n",
    "print(my_deque)\n",
    "\n",
    "print('--- 추가하기 ---')\n",
    "my_deque.insert(0, 'I')\n",
    "print(my_deque)\n",
    "\n",
    "print('--- 삭제하기 ---')\n",
    "my_deque.insert(100, 'I')    # 100번째 항목은 없지만 가장 큰 인덱스니까 제일 오른쪽에 I 추가\n",
    "print(my_deque)\n",
    "\n",
    "my_deque.remove('I')   # 같은 항목이 존재할 경우 왼쪽부터 삭제\n",
    "print(my_deque)"
   ]
  },
  {
   "cell_type": "markdown",
   "id": "48f0d96b",
   "metadata": {},
   "source": [
    "### * deque의 장점\n",
    "\n",
    "<b> 📍 deque 모듈의 장점은 <u>연결 리스트</u>의 특성을 지원한다는 것이다. 연결리스트는 데이터를 저장할 때 요소의 값을 한 쪽으로 연결한 후, 요소의 다음 값의 주소값을 저장하여 데이터를 연결하는 기법이다.</b>"
   ]
  },
  {
   "attachments": {
    "image.png": {
     "image/png": "[encoded data removed]"
    }
   },
   "cell_type": "markdown",
   "id": "6939196a",
   "metadata": {},
   "source": [
    "![image.png](attachment:image.png)"
   ]
  },
  {
   "cell_type": "markdown",
   "id": "9b782a12",
   "metadata": {},
   "source": [
    "<b> 연결 리스트는 다음 요소의 주소값을 저장하므로 데이터를 원형으로 저장한다. 이러한 특징 덕에 가능한 기능 중 하나는 rotate()함수이다. 기존 deque에 저장된 요소들의 값 인덱스를 바꾸는 것이 rotate()함수인데, 이렇게 한다면 요소를 옮길 때 실제 요소가 아닌 인덱스 번호만 바꾸면 되기에 편리하다. </b>"
   ]
  },
  {
   "cell_type": "code",
   "execution_count": 5,
   "id": "dd205c86",
   "metadata": {},
   "outputs": [
    {
     "name": "stdout",
     "output_type": "stream",
     "text": [
      "deque([5, 1, 2, 3, 4])\n",
      "deque([1, 2, 3, 4, 5])\n"
     ]
    }
   ],
   "source": [
    "deq = deque([1, 2, 3, 4, 5])\n",
    "\n",
    "# rotate() 함수는 데크를 num만큼 회전\n",
    "# 양수면 오른쪽, 음수면 왼쪽으로 회전\n",
    "\n",
    "deq.rotate(1)\n",
    "print(deq)\n",
    "\n",
    "deq.rotate(-1)\n",
    "print(deq)"
   ]
  },
  {
   "cell_type": "markdown",
   "id": "3d64a7ca",
   "metadata": {},
   "source": [
    "### 1 - 5 ) deque의 reverse() 함수\n",
    "<b>기존과 반대로 데이터를 저장할 수 있다.</b>"
   ]
  },
  {
   "cell_type": "code",
   "execution_count": 14,
   "id": "6ced9ffc",
   "metadata": {},
   "outputs": [
    {
     "name": "stdout",
     "output_type": "stream",
     "text": [
      "deque([0, 1, 2, 3, 4])\n",
      "deque([4, 3, 2, 1, 0])\n"
     ]
    }
   ],
   "source": [
    "my_deque = deque()\n",
    "for i in range(5):\n",
    "    my_deque.append(i)\n",
    "print(my_deque)\n",
    "print(deque(reversed(my_deque)))"
   ]
  },
  {
   "cell_type": "markdown",
   "id": "242dc12f",
   "metadata": {},
   "source": [
    "  \n",
    "### ( 2 ) OrderedDict 모듈\n",
    "\n",
    "### OrderedDict 모듈은 이름 그대로 순서를 가진 딕셔너리 객체입니다.  딕셔너리 파일을 저장하면 키는 저장 순서와 상관 없이 저장됩니다."
   ]
  },
  {
   "cell_type": "code",
   "execution_count": 2,
   "id": "fddfd9f1",
   "metadata": {},
   "outputs": [
    {
     "name": "stdout",
     "output_type": "stream",
     "text": [
      "a 100\n",
      "b 200\n",
      "e 300\n",
      "c 400\n"
     ]
    }
   ],
   "source": [
    "from collections import OrderedDict\n",
    "d = OrderedDict()\n",
    "d['a'] = 100\n",
    "d['b'] = 200\n",
    "d['e'] = 300\n",
    "d['c'] = 400\n",
    "\n",
    "for k, v in d.items():\n",
    "\tprint(k, v)"
   ]
  },
  {
   "cell_type": "markdown",
   "id": "4a03d770",
   "metadata": {},
   "source": [
    "<b> 📍 하지만 파이썬 3.6 부터는 기본 사전(dict)도 OrderedDict 클래스와 동일하게 동작하기 때문에 이러한 용도로 OrderedDict 클래스를 사용할 일이 줄어들었습니다.  \n",
    "  \n",
    "  그치만 아예 필요성이 사라진것은 아닙니다.\n",
    "사전 간에 동등성 비교를 할 때는 데이터의 키, 값이 동일하면 데이터의 순서가 무시 되었는데\n",
    "OrderedDict 클래스 경우 데이터의 순서까지 고려해서 좀 더 엄격하게 동등성 비교가 됩니다.  \n",
    "\n",
    "기본 비교 )</b>"
   ]
  },
  {
   "cell_type": "code",
   "execution_count": 3,
   "id": "b2ed1b18",
   "metadata": {},
   "outputs": [
    {
     "data": {
      "text/plain": [
       "True"
      ]
     },
     "execution_count": 3,
     "metadata": {},
     "output_type": "execute_result"
    }
   ],
   "source": [
    "dic1 = {'A': 1, 'B': 2, 'C': 3}\n",
    "dic2 = {'A': 1, 'C': 3, 'B': 2}\n",
    "dic1 == dic2"
   ]
  },
  {
   "cell_type": "markdown",
   "id": "2a93f755",
   "metadata": {},
   "source": [
    "<b> OrderedDic 비교 )</b>"
   ]
  },
  {
   "cell_type": "code",
   "execution_count": 5,
   "id": "12e09ed7",
   "metadata": {},
   "outputs": [
    {
     "data": {
      "text/plain": [
       "False"
      ]
     },
     "execution_count": 5,
     "metadata": {},
     "output_type": "execute_result"
    }
   ],
   "source": [
    "ordered_dic1 = OrderedDict({'A': 1, 'B': 2, 'C': 3})\n",
    "ordered_dic2 = OrderedDict({'A': 1, 'C': 3, 'B': 2})\n",
    "ordered_dic1 == ordered_dic2"
   ]
  },
  {
   "cell_type": "code",
   "execution_count": 6,
   "id": "9a3561a2",
   "metadata": {},
   "outputs": [
    {
     "data": {
      "text/plain": [
       "True"
      ]
     },
     "execution_count": 6,
     "metadata": {},
     "output_type": "execute_result"
    }
   ],
   "source": [
    "ordered_dic3 = OrderedDict({'A': 1, 'B': 2, 'C': 3})\n",
    "ordered_dic1 == ordered_dic3"
   ]
  },
  {
   "cell_type": "markdown",
   "id": "5d3cb8e4",
   "metadata": {},
   "source": [
    "  \n",
    "\n",
    "### ( 3 ) defaultDict\n",
    "\n",
    "### defaultDict 모듈은 딕셔너리의 변수를 생성할 때 키에 기본 값을 지정하는 방법입니다.  \n",
    "\n",
    "<b>기본 dic 형태 ) </b>"
   ]
  },
  {
   "cell_type": "code",
   "execution_count": 7,
   "id": "0b27e26e",
   "metadata": {},
   "outputs": [
    {
     "ename": "KeyError",
     "evalue": "'first'",
     "output_type": "error",
     "traceback": [
      "\u001b[1;31m---------------------------------------------------------------------------\u001b[0m",
      "\u001b[1;31mKeyError\u001b[0m                                  Traceback (most recent call last)",
      "\u001b[1;32m<ipython-input-7-b81aa79706a9>\u001b[0m in \u001b[0;36m<module>\u001b[1;34m\u001b[0m\n\u001b[0;32m      1\u001b[0m \u001b[0md\u001b[0m \u001b[1;33m=\u001b[0m \u001b[0mdict\u001b[0m\u001b[1;33m(\u001b[0m\u001b[1;33m)\u001b[0m\u001b[1;33m\u001b[0m\u001b[1;33m\u001b[0m\u001b[0m\n\u001b[1;32m----> 2\u001b[1;33m \u001b[0mprint\u001b[0m\u001b[1;33m(\u001b[0m\u001b[0md\u001b[0m\u001b[1;33m[\u001b[0m\u001b[1;34m'first'\u001b[0m\u001b[1;33m]\u001b[0m\u001b[1;33m)\u001b[0m   \u001b[1;31m# 이렇게 하면 first라는 키가 존재하지 않아 KeyError가 발생합니다.\u001b[0m\u001b[1;33m\u001b[0m\u001b[1;33m\u001b[0m\u001b[0m\n\u001b[0m",
      "\u001b[1;31mKeyError\u001b[0m: 'first'"
     ]
    }
   ],
   "source": [
    "d = dict()\n",
    "print(d['first'])   # 이렇게 하면 first라는 키가 존재하지 않아 KeyError가 발생합니다."
   ]
  },
  {
   "cell_type": "code",
   "execution_count": 8,
   "id": "16aede8c",
   "metadata": {},
   "outputs": [
    {
     "name": "stdout",
     "output_type": "stream",
     "text": [
      "0\n"
     ]
    }
   ],
   "source": [
    "from collections import defaultdict\n",
    "\n",
    "d = defaultdict(lambda : 0)   #--> default 값을 0으로 설정하겠다.\n",
    "print(d[\"first\"])"
   ]
  },
  {
   "cell_type": "markdown",
   "id": "8423b753",
   "metadata": {},
   "source": [
    "<b>3번째줄을 해석하면 default값을 0 으로 초깃값을 주겠다 인데,  \n",
    "lambda: 0 은 어떤 키가 들어오더라도 처음 값은 전부 0으로 설정하겠다는 뜻입니다.  \n",
    "    \n",
    "  \n",
    "예시 1 ) </b>"
   ]
  },
  {
   "cell_type": "code",
   "execution_count": 9,
   "id": "f321b8e4",
   "metadata": {},
   "outputs": [
    {
     "name": "stdout",
     "output_type": "stream",
     "text": [
      "defaultdict(<class 'int'>, {'A': 0, 'B': 0, 'C': 0})\n"
     ]
    }
   ],
   "source": [
    "import collections\n",
    " \n",
    "normalDict = collections.defaultdict(int)\n",
    "normalKey =[\"A\",\"B\",\"C\"]\n",
    "for item in normalKey:\n",
    "    normalDict[item]\n",
    "print(normalDict)"
   ]
  },
  {
   "cell_type": "markdown",
   "id": "08341df0",
   "metadata": {},
   "source": [
    "<b>defaultdict을 사용하면 다음과 같이 출력이 됩니다.  \n",
    "defaultdict()인자값으로 lamda:0을 넣어도 되지만, 위와 같이 int를 넣어도 기본값으로 0으로 입력이 됩니다.  \n",
    "  \n",
    "예시 2 )</b>\n"
   ]
  },
  {
   "cell_type": "code",
   "execution_count": 10,
   "id": "fc04772f",
   "metadata": {},
   "outputs": [
    {
     "name": "stdout",
     "output_type": "stream",
     "text": [
      "defaultdict(<class 'int'>, {})\n",
      "defaultdict(<class 'int'>, {'a': 0})\n",
      "defaultdict(<class 'int'>, {'a': 0, 'v': 0})\n"
     ]
    }
   ],
   "source": [
    "import collections\n",
    "normalDict = collections.defaultdict(int)\n",
    "print(normalDict)\n",
    "normalDict[\"a\"]\n",
    "print(normalDict)\n",
    "normalDict[\"v\"]\n",
    "print(normalDict)"
   ]
  },
  {
   "cell_type": "markdown",
   "id": "3c918ff1",
   "metadata": {},
   "source": [
    "<b>위에서 보이는 바와 같이 최초에 없는 키값을 입력해도 에러가 나지 않고, 다음과 같이 설정된 값으로 초기화가 됩니다. 그래서 defaultdict에 자동으로 추가됩니다.  </b>"
   ]
  },
  {
   "cell_type": "markdown",
   "id": "b0cb2aa3",
   "metadata": {},
   "source": [
    "### ( 4 ) Counter\n",
    "\n",
    "### 데이터의 개수를 셀 때 유용한 Collections 모듈의 Counter 클래스 입니다.\n",
    "### 반환값은 Dictionary 타입입니다.\n",
    "\n",
    "### - Counter의 기본 사용법\n",
    "#### 1 ) 리스트(List)"
   ]
  },
  {
   "cell_type": "code",
   "execution_count": 11,
   "id": "342c7c5b",
   "metadata": {},
   "outputs": [
    {
     "name": "stdout",
     "output_type": "stream",
     "text": [
      "Counter({'aa': 2, 'cc': 1, 'dd': 1, 'bb': 1, 'ee': 1})\n"
     ]
    }
   ],
   "source": [
    "import collections\n",
    "lst = ['aa', 'cc', 'dd', 'aa', 'bb', 'ee']\n",
    "print(collections.Counter(lst))"
   ]
  },
  {
   "cell_type": "markdown",
   "id": "30d76bc3",
   "metadata": {},
   "source": [
    "<b>lst = ['aa', 'cc', 'dd', 'aa', 'bb', 'ee']의 요소 개수를 collections.Counter()를 이용하여 구할 수 있습니다.  츨력 결과는 Dictionary 형태입니다. \n",
    "  \n",
    "2 ) 딕셔너리(dictionary) </b>"
   ]
  },
  {
   "cell_type": "code",
   "execution_count": 12,
   "id": "e5bbdc0b",
   "metadata": {},
   "outputs": [
    {
     "name": "stdout",
     "output_type": "stream",
     "text": [
      "Counter({'다': 4, '가': 3, '나': 2})\n"
     ]
    }
   ],
   "source": [
    "import collections\n",
    "print(collections.Counter({'가': 3, '나': 2, '다': 4}))"
   ]
  },
  {
   "cell_type": "markdown",
   "id": "29cf28e6",
   "metadata": {},
   "source": [
    "<b>결과에서 볼 수 있듯이 요소의 갯수가 많은 것 부터 출력해줍니다.  \n",
    "입력값은 Dictionary형태로 넣어주면, 결과값 또한 Dictionary입니다.\n",
    "  \n",
    "3 ) 값 = 개수 형태 </b>"
   ]
  },
  {
   "cell_type": "code",
   "execution_count": 13,
   "id": "6350db0b",
   "metadata": {},
   "outputs": [
    {
     "name": "stdout",
     "output_type": "stream",
     "text": [
      "Counter({'b': 3, 'a': 2, 'c': 2})\n",
      "['a', 'a', 'b', 'b', 'b', 'c', 'c']\n"
     ]
    }
   ],
   "source": [
    "c = collections.Counter(a=2, b=3, c=2)\n",
    "print(collections.Counter(c))\n",
    "print(sorted(c.elements()))"
   ]
  },
  {
   "cell_type": "markdown",
   "id": "b5a93750",
   "metadata": {},
   "source": [
    "  \n",
    "### - Counter의 메소드들\n",
    "#### 📍 update() \n",
    "#### 📍 most_common(n)\n",
    "#### 📍 element()\n",
    "#### 📍 substract()"
   ]
  },
  {
   "cell_type": "code",
   "execution_count": 14,
   "id": "e6d27957",
   "metadata": {},
   "outputs": [
    {
     "name": "stdout",
     "output_type": "stream",
     "text": [
      "Counter({'aaa': 1, 'bbb': 1, 'ccc': 1})\n",
      "Counter({'aaa': 2, 'ccc': 2, 'bbb': 1, 'ddd': 1})\n",
      "[('aaa', 2), ('ccc', 2)]\n"
     ]
    }
   ],
   "source": [
    "# update(), most_common(n) 예제\n",
    "my_list  = ['aaa', 'bbb', 'ccc']\n",
    "new_list = ['aaa', 'ccc', 'ddd']\n",
    "\n",
    "# 리스트 세기\n",
    "from collections import Counter\n",
    "counter = Counter(my_list)\n",
    "print(counter)\n",
    "\n",
    "# 추가된 리스트를 누적하여 세기\n",
    "counter.update(new_list)\n",
    "print(counter)\n",
    "\n",
    "# 가장 많이 나타난 2개를 출력\n",
    "print(counter.most_common(2))"
   ]
  },
  {
   "cell_type": "markdown",
   "id": "5c6bedee",
   "metadata": {},
   "source": [
    "<b> => 넘긴 그 숫자 만큼만 리턴하기 때문에, 가장 개수가 많은 K개의 데이터를 얻을 수도 있습니다.</b>"
   ]
  },
  {
   "cell_type": "code",
   "execution_count": 15,
   "id": "5bb74c83",
   "metadata": {},
   "outputs": [
    {
     "name": "stdout",
     "output_type": "stream",
     "text": [
      "['H', 'e', 'l', 'l', 'o', 'o', ' ', 'P', 'y', 't', 'h', 'n']\n",
      "[' ', 'H', 'P', 'e', 'h', 'l', 'l', 'n', 'o', 'o', 't', 'y']\n"
     ]
    }
   ],
   "source": [
    "# element() 예제 \n",
    "c = collections.Counter(\"Hello Python\")\n",
    "print(list(c.elements()))\n",
    "print(sorted(c.elements()))"
   ]
  },
  {
   "cell_type": "markdown",
   "id": "0a63c9b2",
   "metadata": {},
   "source": [
    "<b>=> 입력된 값의 요소에 해당하는 값을 풀어서 반환합니다.  \n",
    "    elements()는 대소문자를 구분하며, sorted()를 이용하여 정렬해줄 수 있습니다.</b>"
   ]
  },
  {
   "cell_type": "code",
   "execution_count": 16,
   "id": "33c14564",
   "metadata": {},
   "outputs": [
    {
     "name": "stdout",
     "output_type": "stream",
     "text": [
      "Counter({'a': 3, 'b': 0, 'c': -3, 'd': -6})\n"
     ]
    }
   ],
   "source": [
    "# substract() 예제\n",
    "c = Counter(a=4, b=2, c=0, d=-2)\n",
    "d = Counter(a=1, b=2, c=3, d=4)\n",
    "c.subtract(d)\n",
    "print(c)"
   ]
  },
  {
   "cell_type": "markdown",
   "id": "22f7512d",
   "metadata": {},
   "source": [
    "<b>=>요소를 뺴는 메소드. 다만, 요소가 없는 경우는 음수의 값이 출력됩니다.</b>"
   ]
  },
  {
   "cell_type": "markdown",
   "id": "427b735e",
   "metadata": {},
   "source": [
    "### - Counter의 연산들"
   ]
  },
  {
   "cell_type": "code",
   "execution_count": 19,
   "id": "7c9b0325",
   "metadata": {},
   "outputs": [
    {
     "name": "stdout",
     "output_type": "stream",
     "text": [
      "----- 덧셈 결과------\n",
      "Counter({'a': 2, 'b': 2, 'c': 1, 'd': 1})\n",
      "Counter({'a': 3, 'e': 2, 'r': 1, 'o': 1, 'p': 1, 'l': 1, 'n': 1})\n",
      "Counter({'a': 5, 'b': 2, 'e': 2, 'c': 1, 'd': 1, 'r': 1, 'o': 1, 'p': 1, 'l': 1, 'n': 1})\n",
      "----- 뺄셈 결과------\n",
      "Counter({'d': 2, 'a': 1, 'c': 1})\n",
      "----- 교집합 결과------\n",
      "Counter({'a': 2, 'b': 2, 'c': 1})\n",
      "----- 합집합 결과------\n",
      "Counter({'b': 3, 'a': 2, 'c': 2, 'd': 2, 'e': 1})\n"
     ]
    }
   ],
   "source": [
    "# 덧셈\n",
    "print('----- 덧셈 결과------')\n",
    "a = collections.Counter(['a', 'b', 'c', 'b', 'd', 'a'])\n",
    "b = collections.Counter('aaeroplane')\n",
    "print(a)\n",
    "print(b)\n",
    "print(a+b)\n",
    "\n",
    "\n",
    "# 뺄셈    * 주의 : 음수 값은 출력되지 않습니다.\n",
    "print('----- 뺄셈 결과------')\n",
    "a = collections.Counter('aabbccdd')\n",
    "b = collections.Counter('abbbce')\n",
    "print(a-b)\n",
    "\n",
    "# 교집합(&)과 합집합(|)\n",
    "print('----- 교집합 결과------')\n",
    "a = collections.Counter('aabbccdd')\n",
    "b = collections.Counter('aabbbce')\n",
    "print(a & b)\n",
    "print('----- 합집합 결과------')\n",
    "print(a | b)"
   ]
  },
  {
   "cell_type": "markdown",
   "id": "6124d8cd",
   "metadata": {},
   "source": [
    "  \n",
    "### ( 5 ) namedtuple\n",
    "\n",
    "### - 튜플의 형태로 데이터 구조체를 저장하는 모듈입니다. 기본 튜플과는 다르게 키(key)값으로 접근가능하도록 제공합니다.\n",
    "### - collections.namedtuple(typename, field_names, verbose=False, rename=False)을 입력값으로 받으며, field_names 를 통해 namedtuple()의 키 즉, 필드명(fieldname)을 정의할 수 있습니다.\n",
    "  \n",
    "  \n",
    "#### 예제1 ) tuple() vs namedtuple()"
   ]
  },
  {
   "cell_type": "code",
   "execution_count": 21,
   "id": "f1db9625",
   "metadata": {},
   "outputs": [
    {
     "name": "stdout",
     "output_type": "stream",
     "text": [
      "John은(는) 28 세의 남성 입니다.\n",
      "Sally은(는) 24 세의 여성 입니다.\n"
     ]
    }
   ],
   "source": [
    "# tuple()\n",
    "a = ('John', 28, '남')\n",
    "b = ('Sally', 24, '여')\n",
    "for n in [a, b]:\n",
    "    print('%s은(는) %d 세의 %s성 입니다.' %n)"
   ]
  },
  {
   "cell_type": "code",
   "execution_count": 23,
   "id": "5aa97b7e",
   "metadata": {},
   "outputs": [
    {
     "name": "stdout",
     "output_type": "stream",
     "text": [
      "Jhon는(은) 28세의 남성 입니다.\n",
      "Sally는(은) 28세의 여성 입니다.\n",
      "--------------------------------------\n",
      "Jhon 28 남\n",
      "Sally 28 여\n"
     ]
    }
   ],
   "source": [
    "import collections\n",
    "# namedtuple()\n",
    "Person = collections.namedtuple(\"Person\", 'name age gender')\n",
    "P1 = Person(name='Jhon', age=28, gender='남')\n",
    "P2 = Person(name='Sally', age=28, gender='여')\n",
    "for n in [P1, P2]:\n",
    "    print('%s는(은) %d세의 %s성 입니다.' %n)\n",
    "    \n",
    "print('--------------------------------------')\n",
    "print(P1.name, P1.age, P1.gender)\n",
    "print(P2.name, P2.age, P2.gender)"
   ]
  },
  {
   "cell_type": "markdown",
   "id": "23d0ec34",
   "metadata": {},
   "source": [
    "### - namedtuple()의 메소드들\n",
    "#### 📍 _make : 기존에 생성된  namedtuple에 새로운 객체를 생성하는 메소드\n",
    "####  📍 **dic : dictionary를 namedtuple()로 변환해준다."
   ]
  },
  {
   "cell_type": "code",
   "execution_count": 25,
   "id": "11c40b6f",
   "metadata": {},
   "outputs": [
    {
     "name": "stdout",
     "output_type": "stream",
     "text": [
      "------ _make 함수 예제 ------\n",
      "Jhon는(은) 28세의 남성 입니다.\n",
      "Sally는(은) 28세의 여성 입니다.\n",
      "Tom는(은) 24세의 남성 입니다.\n"
     ]
    }
   ],
   "source": [
    "print('------ _make 함수 예제 ------')\n",
    "# Person 객체 만들기\n",
    "Person = collections.namedtuple(\"Person\", 'name age gender')\n",
    "P1 = Person(name='Jhon', age=28, gender='남')\n",
    "P2 = Person(name='Sally', age=28, gender='여')\n",
    "\n",
    "# _make()를 이용하여 새로운 객체 생성\n",
    "P3 = Person._make(['Tom', 24, '남'])\n",
    "\n",
    "for n in [P1, P2, P3]:\n",
    "    print('%s는(은) %d세의 %s성 입니다.' %n)"
   ]
  },
  {
   "cell_type": "code",
   "execution_count": 26,
   "id": "192b980a",
   "metadata": {},
   "outputs": [
    {
     "name": "stdout",
     "output_type": "stream",
     "text": [
      "------ **dic 함수 예제 ------\n",
      "Person(name='Jhon', age=28, gender='남')\n",
      "Person(name='Sally', age=28, gender='여')\n",
      "Person(name='Tom', age=24, gender='남')\n"
     ]
    }
   ],
   "source": [
    "print('------ **dic 함수 예제 ------')\n",
    "# Person 객체 만들기\n",
    "Person = collections.namedtuple(\"Person\", 'name age gender')\n",
    "P1 = Person(name='Jhon', age=28, gender='남')\n",
    "P2 = Person(name='Sally', age=28, gender='여')\n",
    "\n",
    "# double-star-operator\n",
    "dic = {'name' : 'Tom', 'age' : 24, 'gender' : '남'}\n",
    "P3 = Person(**dic)\n",
    "\n",
    "for n in [P1, P2, P3]:\n",
    "    # print('%s는(은) %d세의 %s성 입니다.' %n)\n",
    "    print(n)"
   ]
  },
  {
   "cell_type": "markdown",
   "id": "b36e515a",
   "metadata": {},
   "source": [
    "\n",
    "## 6. Collections.abc - 컨테이너에 대한 추상 기본 클래스\n",
    "\n",
    "### 컨테이너 타입에 필요한 일반적인 메서드를 모두 제공하는 추상 기반 클래스들을 정의하는 모듈 입니다."
   ]
  },
  {
   "cell_type": "markdown",
   "id": "25600dc3",
   "metadata": {},
   "source": [
    "### 👆컨테이너 타입은 무엇일까?\n",
    "#### - 특정 속성이 구현되어 있는 클래스를 말합니다. 따라서 객체를 만드는데 직접 관여하지는 않지만, 특정 기능이 구현되어 있는 객체를 Container 객체라고 합니다.\n",
    "#### - 순서가 없는 Container 객체는 dict, set 이고, 순서가 있는 Container 객체는 대표적으로 Sequence객체(리스트, 튜플, range, 문자열)가 있습니다."
   ]
  },
  {
   "cell_type": "code",
   "execution_count": 39,
   "id": "1429dab2",
   "metadata": {},
   "outputs": [
    {
     "data": {
      "text/plain": [
       "True"
      ]
     },
     "execution_count": 39,
     "metadata": {},
     "output_type": "execute_result"
    }
   ],
   "source": [
    "from collections import Container\n",
    "# issubClass는 특정 클래스가 다른 클래스의 속성을 이어받은 클래스(상속)인지 확인하는 클래스 입니다.\n",
    "issubclass(dict, Container)  # 결과 : True\n",
    "issubclass(set, Container)   # 결과 : True\n",
    "issubclass(str, Container)   # 결과 : True"
   ]
  },
  {
   "cell_type": "markdown",
   "id": "343cf332",
   "metadata": {},
   "source": [
    "<b>Sequence의 기능을 사용하려면 Collection의 추상 클래스를 상속 받습니다.  \n",
    "    그 속에 추상 메서드는 __getitem__, __len__ 입니다.   \n",
    "하지만 스스로 커스텀 컨테이너를 만들때, Sequence 안의 추상메서드들 중 하나라도 빠뜨리지 않고 기본 메서드를 전부 정의하기가 어렵습니다.\n",
    "  \n",
    "이런 어려움을 피하기 위하여 collections.abc 모듈을 사용해서 각 컨테이너 타입에 필요한 일반적인 메서드를 모두 제공하는 추상 기반 클래스들을 정의합니다.  \n",
    "이 추상 기반 클래스들에서 상속받아 서브클래스를 만들다가 깜박 잊고 필수 메서드를 구현하지 않으면 모듈이 에러를 발생시킵니다. 추상 기반 클래스가 요구하는 메서드를 모두 구현하면 별도로 작업하지 않아도 클래스가 부가적인 메소드를 모두 제공합니다.  \n",
    "\n",
    "  \n",
    "예시 )</b>"
   ]
  },
  {
   "cell_type": "code",
   "execution_count": 44,
   "id": "0ba93c85",
   "metadata": {},
   "outputs": [
    {
     "ename": "TypeError",
     "evalue": "Can't instantiate abstract class MySet with abstract methods __contains__, __iter__, __len__",
     "output_type": "error",
     "traceback": [
      "\u001b[1;31m---------------------------------------------------------------------------\u001b[0m",
      "\u001b[1;31mTypeError\u001b[0m                                 Traceback (most recent call last)",
      "\u001b[1;32m<ipython-input-44-b00f010aa131>\u001b[0m in \u001b[0;36m<module>\u001b[1;34m\u001b[0m\n\u001b[0;32m      2\u001b[0m \u001b[1;32mclass\u001b[0m \u001b[0mMySet\u001b[0m\u001b[1;33m(\u001b[0m\u001b[0mcollections\u001b[0m\u001b[1;33m.\u001b[0m\u001b[0mSet\u001b[0m\u001b[1;33m)\u001b[0m\u001b[1;33m:\u001b[0m\u001b[1;33m\u001b[0m\u001b[1;33m\u001b[0m\u001b[0m\n\u001b[0;32m      3\u001b[0m     \u001b[1;32mpass\u001b[0m\u001b[1;33m\u001b[0m\u001b[1;33m\u001b[0m\u001b[0m\n\u001b[1;32m----> 4\u001b[1;33m \u001b[0ma\u001b[0m \u001b[1;33m=\u001b[0m \u001b[0mMySet\u001b[0m\u001b[1;33m(\u001b[0m\u001b[1;33m)\u001b[0m\u001b[1;33m\u001b[0m\u001b[1;33m\u001b[0m\u001b[0m\n\u001b[0m",
      "\u001b[1;31mTypeError\u001b[0m: Can't instantiate abstract class MySet with abstract methods __contains__, __iter__, __len__"
     ]
    }
   ],
   "source": [
    "import collections.abc\n",
    "class MySet(collections.Set):\n",
    "    pass\n",
    "a = MySet()"
   ]
  },
  {
   "cell_type": "markdown",
   "id": "f81714e9",
   "metadata": {},
   "source": [
    "<b>=> 에러 메시지 처럼, \n",
    "추상메소드는 생략하면 기본적인 클래스 기능은 동작하지만, 객체를 생성하면 에러가 발생합니다.</b>"
   ]
  }
 ],
 "metadata": {
  "kernelspec": {
   "display_name": "Python 3",
   "language": "python",
   "name": "python3"
  },
  "language_info": {
   "codemirror_mode": {
    "name": "ipython",
    "version": 3
   },
   "file_extension": ".py",
   "mimetype": "text/x-python",
   "name": "python",
   "nbconvert_exporter": "python",
   "pygments_lexer": "ipython3",
   "version": "3.7.2"
  }
 },
 "nbformat": 4,
 "nbformat_minor": 5
}
