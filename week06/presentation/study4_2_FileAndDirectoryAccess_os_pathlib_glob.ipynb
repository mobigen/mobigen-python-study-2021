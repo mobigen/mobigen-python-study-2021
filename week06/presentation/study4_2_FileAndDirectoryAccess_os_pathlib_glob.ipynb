{
 "cells": [
  {
   "cell_type": "code",
   "execution_count": 15,
   "metadata": {
    "pycharm": {
     "name": "#%%\n"
    }
   },
   "outputs": [],
   "source": [
    "import os\n",
    "from pathlib import Path"
   ]
  },
  {
   "cell_type": "markdown",
   "metadata": {},
   "source": [
    "# 디렉토리와 파일다루기"
   ]
  },
  {
   "cell_type": "markdown",
   "metadata": {},
   "source": [
    "> 파일다루기, 파일에 관한 정보 알아내기, 데렉토리 다루기, 파일 이름 다루기를 도와주는 모듈들"
   ]
  },
  {
   "cell_type": "markdown",
   "metadata": {
    "pycharm": {
     "name": "#%% md\n"
    }
   },
   "source": [
    "# os.path\n",
    "### Common pathname manipulations\n",
    "### 일반적인 경로명 조작\n",
    "----\n",
    "\n",
    "### os.path 를 왜 쓸까?\n",
    "\n",
    "- os.path 모듈을 이용하면 현재 시스템에 저장되어 있는 파일의 경로정보를 조작하거나 해당 경로에 특정 파일이 존재하는지 등의 정보를 얻을 수 있습니다.<br>\n",
    "\n",
    "- 보통 파일의 경로(path)는 문자열로 표현하기에 경로를 조작할때에는 문자열 연산을 많이 사용하게 됩니다.<br>\n",
    "- **따라서 os.path 모듈에서 대부분의 함수는 문자열을 매개변수로 받거나 결과로 문자열을 반환하게 됩니다**"
   ]
  },
  {
   "cell_type": "markdown",
   "metadata": {
    "pycharm": {
     "name": "#%% md\n"
    }
   },
   "source": [
    "# pathlib\n",
    "### Object-oriented filesystem paths\n",
    "### 객체 지향 파일 시스템 경로\n",
    "----\n",
    "\n",
    "### pathlib 를 왜 쓸까?\n",
    "#### python 파일 입출력시 OS 호환성을 높이는 라이브러리\n",
    "Python은 개발환경이 달라도 가상 머신을 통해 실행되기 때문에 다른 환경에서 같은 코드를 작성해도 거의 동일하게 작동하지만, 운영체제의 특성때문에 항상 불편하게 코딩해야 하는 부분이 바로 파일의 경로 입니다. 특히 Windows와 그 외 운영체제(macOS, Linux등)의 경로 문자가 다릅니다."
   ]
  },
  {
   "cell_type": "raw",
   "metadata": {},
   "source": [
    "Windows filenames:\n",
    "C:\\some_folder\\some_file.txt\n",
    "\n",
    "Most other operating systems:\n",
    "/some_folder/some_file.txt"
   ]
  },
  {
   "cell_type": "markdown",
   "metadata": {},
   "source": [
    "#### 파일 경로를 처리하는 이전 방식들\n",
    "- os.path.join()<br>\n",
    "파이썬 3.4 이전에는 os 라이브러리에 있는 os.path.join() 함수를 사용해 파일 경로 문자열을 만들었습니다. 위 두 파일 경로를 보면, Windows와 비Windows 경로 문자열의 차이는 /와 \\ 차이만 있습니다. 이를 감지하고 처리하주는 함수가 os.path.join() 함수입니다. 이 함수를 사용하면 운영체제에 따라 각각 다른 슬래쉬 (/)또는 (\\\\)로 연결해줍니다."
   ]
  },
  {
   "cell_type": "code",
   "execution_count": 39,
   "metadata": {},
   "outputs": [
    {
     "name": "stdout",
     "output_type": "stream",
     "text": [
      "mobigen\\mobigen_202103\\2021파이썬스터디\n"
     ]
    }
   ],
   "source": [
    "my_path = os.path.join(os_dir_name, os_sub_dir_name, os_folder_name)\n",
    "# \"some_folder\\some_file.txt\" or \"some_folder/some_file.txt\"\n",
    "print(my_path)"
   ]
  },
  {
   "cell_type": "markdown",
   "metadata": {},
   "source": [
    "다만, 위 함수를 사용하면 새로운 폴더에 들어갈 때마다 <font color='red'>매번 함수를 사용하기 때문에 이 또한 귀찮습니다</font>. pathlib 라이브러리의 다음과 같은 특징이 이러한 문제를 해결해 줄 수 있습니다."
   ]
  },
  {
   "cell_type": "markdown",
   "metadata": {
    "pycharm": {
     "name": "#%% md\n"
    }
   },
   "source": [
    "### pathlib 특징\n",
    "\n",
    "#### 1. pathlib 라이브러리는 파일 시스템의 경로를 단순한 string 객채로 보지않고 파일시스템 경로를 Path 객체로 활용합니다. <br>"
   ]
  },
  {
   "cell_type": "markdown",
   "metadata": {},
   "source": [
    "- 기존 (os.path)의 directory 반환"
   ]
  },
  {
   "cell_type": "code",
   "execution_count": 16,
   "metadata": {
    "scrolled": true
   },
   "outputs": [
    {
     "name": "stdout",
     "output_type": "stream",
     "text": [
      "C:\\Users\\haein\\mobigen\\mobigen_202103\\2021파이썬스터디\n"
     ]
    }
   ],
   "source": [
    "path_dir=os.getcwd()\n",
    "print(path_dir)"
   ]
  },
  {
   "cell_type": "markdown",
   "metadata": {},
   "source": [
    "- pathlib을 활용해서 현재 directory 반환"
   ]
  },
  {
   "cell_type": "code",
   "execution_count": 56,
   "metadata": {
    "scrolled": false
   },
   "outputs": [
    {
     "name": "stdout",
     "output_type": "stream",
     "text": [
      "C:\\Users\\haein\\mobigen\\mobigen_202103\\2021파이썬스터디\n"
     ]
    }
   ],
   "source": [
    "pathlib_dir=Path.cwd()\n",
    "print(pathlib_dir)"
   ]
  },
  {
   "cell_type": "markdown",
   "metadata": {},
   "source": [
    "path_dir 은 스트링 객체이고, pathlib_dir은 path 객체입니다."
   ]
  },
  {
   "cell_type": "markdown",
   "metadata": {
    "pycharm": {
     "name": "#%% md\n"
    }
   },
   "source": [
    "- 기존 (os.path)"
   ]
  },
  {
   "cell_type": "code",
   "execution_count": 43,
   "metadata": {
    "pycharm": {
     "name": "#%%\n"
    }
   },
   "outputs": [
    {
     "name": "stdout",
     "output_type": "stream",
     "text": [
      "C:\\Users\\haein\\mobigen\\mobigen_202103\\2021파이썬스터디\n",
      "True\n",
      "True\n"
     ]
    }
   ],
   "source": [
    "print(path_dir)\n",
    "print(os.path.exists(path_dir))\n",
    "print(os.path.isdir(path_dir))"
   ]
  },
  {
   "cell_type": "markdown",
   "metadata": {
    "pycharm": {
     "name": "#%% md\n"
    }
   },
   "source": [
    "- pathlib 도입"
   ]
  },
  {
   "cell_type": "code",
   "execution_count": 57,
   "metadata": {
    "pycharm": {
     "name": "#%%\n"
    },
    "scrolled": false
   },
   "outputs": [
    {
     "name": "stdout",
     "output_type": "stream",
     "text": [
      "C:\\Users\\haein\\mobigen\\mobigen_202103\\2021파이썬스터디\n",
      "True\n",
      "True\n"
     ]
    }
   ],
   "source": [
    "print(pathlib_dir)\n",
    "print(pathlib_dir.exists())\n",
    "print(pathlib_dir.is_dir())"
   ]
  },
  {
   "cell_type": "code",
   "execution_count": 58,
   "metadata": {
    "scrolled": false
   },
   "outputs": [
    {
     "ename": "AttributeError",
     "evalue": "'str' object has no attribute 'is_dir'",
     "output_type": "error",
     "traceback": [
      "\u001b[1;31m---------------------------------------------------------------------------\u001b[0m",
      "\u001b[1;31mAttributeError\u001b[0m                            Traceback (most recent call last)",
      "\u001b[1;32m<ipython-input-58-f2d92196724d>\u001b[0m in \u001b[0;36m<module>\u001b[1;34m\u001b[0m\n\u001b[1;32m----> 1\u001b[1;33m \u001b[0mprint\u001b[0m\u001b[1;33m(\u001b[0m\u001b[0mpath_dir\u001b[0m\u001b[1;33m.\u001b[0m\u001b[0mis_dir\u001b[0m\u001b[1;33m(\u001b[0m\u001b[1;33m)\u001b[0m\u001b[1;33m)\u001b[0m\u001b[1;33m\u001b[0m\u001b[1;33m\u001b[0m\u001b[0m\n\u001b[0m",
      "\u001b[1;31mAttributeError\u001b[0m: 'str' object has no attribute 'is_dir'"
     ]
    }
   ],
   "source": [
    "print(path_dir.is_dir())"
   ]
  },
  {
   "cell_type": "markdown",
   "metadata": {},
   "source": [
    "#### 2. 파일시스템을 문자열이 아닌 객체로 다루게 되면서 얻게 된 큰 이익 중 하나는 연산자를 새롭게 정의할 수 있게 되었다는 점입니다."
   ]
  },
  {
   "cell_type": "code",
   "execution_count": 45,
   "metadata": {
    "pycharm": {
     "name": "#%%\n"
    }
   },
   "outputs": [],
   "source": [
    "dir_name = 'mobigen'\n",
    "sub_dir_name = 'mobigen_202103'\n",
    "folder_name = '2021파이썬스터디'"
   ]
  },
  {
   "cell_type": "markdown",
   "metadata": {
    "pycharm": {
     "name": "#%%\n"
    }
   },
   "source": [
    "- 기존 (os.path) 의 os.path.join"
   ]
  },
  {
   "cell_type": "code",
   "execution_count": 46,
   "metadata": {
    "pycharm": {
     "name": "#%%\n"
    },
    "scrolled": true
   },
   "outputs": [
    {
     "name": "stdout",
     "output_type": "stream",
     "text": [
      "mobigen\\mobigen_202103\\2021파이썬스터디\n"
     ]
    }
   ],
   "source": [
    "os_file = os.path.join(dir_name, sub_dir_name, folder_name)\n",
    "print(os_file)"
   ]
  },
  {
   "cell_type": "markdown",
   "metadata": {
    "pycharm": {
     "name": "#%%\n"
    }
   },
   "source": [
    "- pathlib 도입"
   ]
  },
  {
   "cell_type": "markdown",
   "metadata": {},
   "source": [
    "pathlib은 나누기 연산자인 슬래시(/)가 경로 구분 문자로도 사용된다는 점에서 착안하여 나누기 연산자로 path를 연결하게끔 만들었습니다.<br>\n",
    "이로써 더 이상 보기 싫은(?) os.path.join()와 마주치지 않아도 된다고.. 합니다."
   ]
  },
  {
   "cell_type": "code",
   "execution_count": 60,
   "metadata": {
    "pycharm": {
     "name": "#%%\n"
    }
   },
   "outputs": [
    {
     "name": "stdout",
     "output_type": "stream",
     "text": [
      "mobigen\n",
      "mobigen\\mobigen_202103\\2021파이썬스터디\n",
      "mobigen\\mobigen_202103\\2021파이썬스터디\n"
     ]
    }
   ],
   "source": [
    "dir = Path(dir_name)\n",
    "path_file = dir.joinpath(sub_dir_name, folder_name)\n",
    "\n",
    "#연산자 새롭게 정의\n",
    "path_file2 = dir / sub_dir_name / folder_name\n",
    "\n",
    "print(dir)\n",
    "print(path_file)\n",
    "print(path_file2)"
   ]
  },
  {
   "cell_type": "markdown",
   "metadata": {},
   "source": [
    "## OS path 과 pathlib 모듈의 몇가지 기능 비교\n",
    "***\n",
    ">그동안 os, os.path 모듈을 사용하여 파일시스템을 다뤘던 것을 일반적인 것은 다 pathlib으로 대체할 수 있습니다.<br>"
   ]
  },
  {
   "cell_type": "markdown",
   "metadata": {},
   "source": [
    "1. **os.path.basename(path) vs Path.name:** <br>\n",
    "    파일의 basename 을 반환하는데 쓰입니다. 이 함수는 주어진 경로로부터 파일 이름만을 반환합니다. "
   ]
  },
  {
   "cell_type": "markdown",
   "metadata": {},
   "source": [
    "- os.path"
   ]
  },
  {
   "cell_type": "code",
   "execution_count": 63,
   "metadata": {},
   "outputs": [
    {
     "name": "stdout",
     "output_type": "stream",
     "text": [
      "C:\\Users\\haein\\mobigen\\mobigen_202103\\2021파이썬스터디\n"
     ]
    }
   ],
   "source": [
    "path_dir=os.getcwd()\n",
    "print(path_dir)"
   ]
  },
  {
   "cell_type": "code",
   "execution_count": 64,
   "metadata": {},
   "outputs": [
    {
     "name": "stdout",
     "output_type": "stream",
     "text": [
      "C:\\Users\\haein\\mobigen\\mobigen_202103\\2021파이썬스터디\n"
     ]
    }
   ],
   "source": [
    "pathlib_dir=Path.cwd()\n",
    "print(pathlib_dir)"
   ]
  },
  {
   "cell_type": "code",
   "execution_count": 19,
   "metadata": {},
   "outputs": [
    {
     "name": "stdout",
     "output_type": "stream",
     "text": [
      "2021파이썬스터디\n"
     ]
    }
   ],
   "source": [
    "out = os.path.basename(path_dir)\n",
    "print(out)"
   ]
  },
  {
   "cell_type": "code",
   "execution_count": 20,
   "metadata": {},
   "outputs": [
    {
     "name": "stdout",
     "output_type": "stream",
     "text": [
      "2021파이썬스터디\n"
     ]
    }
   ],
   "source": [
    "out=os.path.basename(pathlib_dir)\n",
    "print(out)"
   ]
  },
  {
   "cell_type": "code",
   "execution_count": 13,
   "metadata": {},
   "outputs": [
    {
     "name": "stdout",
     "output_type": "stream",
     "text": [
      "2021파이썬스터디\n"
     ]
    }
   ],
   "source": [
    "out = os.path.basename(\"C:\\\\Users\\\\haein\\\\mobigen\\\\mobigen_202103\\\\2021파이썬스터디\")\n",
    "print(out)"
   ]
  },
  {
   "cell_type": "code",
   "execution_count": 14,
   "metadata": {},
   "outputs": [
    {
     "name": "stdout",
     "output_type": "stream",
     "text": [
      "2021파이썬스터디\n"
     ]
    }
   ],
   "source": [
    "out = os.path.basename(\"C:/Users/haein/mobigen/mobigen_202103/2021파이썬스터디\")\n",
    "print(out)"
   ]
  },
  {
   "cell_type": "markdown",
   "metadata": {},
   "source": [
    "- pathlib"
   ]
  },
  {
   "cell_type": "code",
   "execution_count": 55,
   "metadata": {
    "scrolled": true
   },
   "outputs": [
    {
     "name": "stdout",
     "output_type": "stream",
     "text": [
      "2021파이썬스터디\n"
     ]
    }
   ],
   "source": [
    "print(pathlib_dir.name)"
   ]
  },
  {
   "cell_type": "markdown",
   "metadata": {},
   "source": [
    "2. **os.path.dirname(path):** 주어진 경로로부터 경로 이름을 반환하는데 쓰입니다. 이 함수는 파일이름을 제외한 경로를 반환합니다."
   ]
  },
  {
   "cell_type": "code",
   "execution_count": 21,
   "metadata": {},
   "outputs": [
    {
     "name": "stdout",
     "output_type": "stream",
     "text": [
      "C:\\Users\\haein\\mobigen\\mobigen_202103\n"
     ]
    }
   ],
   "source": [
    "out = os.path.dirname(path_dir)\n",
    "print(out)"
   ]
  },
  {
   "cell_type": "markdown",
   "metadata": {},
   "source": [
    "3. **os.path.isabs(path):** 이 함수는 해당경로가 절대경로인지 아닌지 구분해줍니다. Unix 시스템의 절대경로는 슬래시('/')로 시작하고 Windows에서는 드라이브 문자를 잘라낸 후 백슬래시('\\\\')로 시작합니다."
   ]
  },
  {
   "cell_type": "code",
   "execution_count": 22,
   "metadata": {},
   "outputs": [
    {
     "name": "stdout",
     "output_type": "stream",
     "text": [
      "True\n"
     ]
    }
   ],
   "source": [
    "out = os.path.isabs(path_dir)\n",
    "print(out)"
   ]
  },
  {
   "cell_type": "code",
   "execution_count": 7,
   "metadata": {
    "scrolled": true
   },
   "outputs": [
    {
     "name": "stdout",
     "output_type": "stream",
     "text": [
      "True\n"
     ]
    }
   ],
   "source": [
    "out = os.path.isabs(\"C:\\\\Users\")\n",
    "print(out)"
   ]
  },
  {
   "cell_type": "code",
   "execution_count": 8,
   "metadata": {},
   "outputs": [
    {
     "name": "stdout",
     "output_type": "stream",
     "text": [
      "True\n"
     ]
    }
   ],
   "source": [
    "out = os.path.isabs(\"\\\\Users\")\n",
    "print(out)"
   ]
  },
  {
   "cell_type": "code",
   "execution_count": 23,
   "metadata": {},
   "outputs": [
    {
     "name": "stdout",
     "output_type": "stream",
     "text": [
      "True\n"
     ]
    }
   ],
   "source": [
    "out = os.path.isabs(\"/Users\")\n",
    "print(out)"
   ]
  },
  {
   "cell_type": "code",
   "execution_count": 24,
   "metadata": {},
   "outputs": [
    {
     "name": "stdout",
     "output_type": "stream",
     "text": [
      "True\n"
     ]
    }
   ],
   "source": [
    "out = os.path.isabs(\"C:/Users\")\n",
    "print(out)"
   ]
  },
  {
   "cell_type": "markdown",
   "metadata": {},
   "source": [
    "4. **os.path.isdir(path):** 이 함수는 해당경로의 존재 여부를 반환한다. "
   ]
  },
  {
   "cell_type": "code",
   "execution_count": 6,
   "metadata": {},
   "outputs": [
    {
     "name": "stdout",
     "output_type": "stream",
     "text": [
      "True\n"
     ]
    }
   ],
   "source": [
    "out = os.path.isdir(\"C:\\\\Users\")\n",
    "print(out)"
   ]
  },
  {
   "cell_type": "markdown",
   "metadata": {
    "pycharm": {
     "name": "#%% md\n"
    }
   },
   "source": [
    "5. **os.path.abspath(path):** 절대경로 반환 "
   ]
  },
  {
   "cell_type": "code",
   "execution_count": 29,
   "metadata": {
    "pycharm": {
     "name": "#%%%\n"
    }
   },
   "outputs": [
    {
     "name": "stdout",
     "output_type": "stream",
     "text": [
      "C:\\Users\\haein\\mobigen\\mobigen_202103\\2021파이썬스터디\n"
     ]
    }
   ],
   "source": [
    "out = os.path.abspath(path_dir)\n",
    "print(out)"
   ]
  },
  {
   "cell_type": "markdown",
   "metadata": {
    "pycharm": {
     "name": "#%% md\n"
    }
   },
   "source": [
    "#### 상대 경로"
   ]
  },
  {
   "cell_type": "markdown",
   "metadata": {},
   "source": [
    "현재"
   ]
  },
  {
   "cell_type": "code",
   "execution_count": 79,
   "metadata": {},
   "outputs": [
    {
     "name": "stdout",
     "output_type": "stream",
     "text": [
      "C:\\Users\\haein\\mobigen\\mobigen_202103\\2021파이썬스터디\n"
     ]
    }
   ],
   "source": [
    "reltv_path = './'\n",
    "print(os.path.abspath(reltv_path))"
   ]
  },
  {
   "cell_type": "markdown",
   "metadata": {},
   "source": [
    "상위"
   ]
  },
  {
   "cell_type": "code",
   "execution_count": 34,
   "metadata": {
    "pycharm": {
     "name": "#%%\n"
    }
   },
   "outputs": [
    {
     "name": "stdout",
     "output_type": "stream",
     "text": [
      "C:\\Users\\haein\\mobigen\\mobigen_202103\n"
     ]
    }
   ],
   "source": [
    "reltv_path = '../'\n",
    "print(os.path.abspath(reltv_path))"
   ]
  },
  {
   "cell_type": "markdown",
   "metadata": {},
   "source": [
    "상위의 상위"
   ]
  },
  {
   "cell_type": "code",
   "execution_count": 35,
   "metadata": {},
   "outputs": [
    {
     "name": "stdout",
     "output_type": "stream",
     "text": [
      "C:\\Users\\haein\\mobigen\n"
     ]
    }
   ],
   "source": [
    "reltv_path = '../../'\n",
    "print(os.path.abspath(reltv_path))"
   ]
  },
  {
   "cell_type": "code",
   "execution_count": 30,
   "metadata": {},
   "outputs": [
    {
     "name": "stdout",
     "output_type": "stream",
     "text": [
      "파일 작성 완료\n"
     ]
    }
   ],
   "source": [
    "data = \"재미난 파이썬 프로그래밍\"\n",
    "with open(\"write_test.txt\", \"w\", encoding=\"utf-8\") as f:\n",
    "    f.write(data)\n",
    "    print(\"파일 작성 완료\")\n"
   ]
  },
  {
   "cell_type": "code",
   "execution_count": 31,
   "metadata": {
    "scrolled": true
   },
   "outputs": [
    {
     "name": "stdout",
     "output_type": "stream",
     "text": [
      "파일 작성 완료\n"
     ]
    }
   ],
   "source": [
    "data = \"재미난 파이썬 프로그래밍\"\n",
    "with open(\"../write_test.txt\", \"w\", encoding=\"utf-8\") as f:\n",
    "    f.write(data)\n",
    "    print(\"파일 작성 완료\")\n"
   ]
  },
  {
   "cell_type": "markdown",
   "metadata": {
    "pycharm": {
     "name": "#%% md\n"
    }
   },
   "source": [
    "6. **os.path.join(path1, path2, path3,...)** : 파일명 연결하기"
   ]
  },
  {
   "cell_type": "code",
   "execution_count": 37,
   "metadata": {
    "pycharm": {
     "name": "#%%\n"
    }
   },
   "outputs": [
    {
     "name": "stdout",
     "output_type": "stream",
     "text": [
      "mobigen/mobigen_202103/2021파이썬스터디\n",
      "\n",
      "mobigen/mobigen_202103/2021파이썬스터디\n",
      "\n",
      "mobigen/mobigen_202103/2021파이썬스터디\n"
     ]
    }
   ],
   "source": [
    "# 기존 문자열 방식\n",
    "\n",
    "os_dir_name = 'mobigen'\n",
    "os_sub_dir_name = 'mobigen_202103'\n",
    "os_folder_name = '2021파이썬스터디'\n",
    "\n",
    "#1. operator 이용\n",
    "string_path = os_dir_name+'/'+os_sub_dir_name+'/'+os_folder_name\n",
    "print(string_path, end='\\n\\n')\n",
    "\n",
    "#2. python formatting...?\n",
    "string_path = f'{os_dir_name}/{os_sub_dir_name}/{os_folder_name}'\n",
    "print(string_path, end='\\n\\n')\n",
    "\n",
    "#3. string object 내부 method 사용\n",
    "string_join_path = '/'.join([os_dir_name, os_sub_dir_name, os_folder_name]) \n",
    "print(string_join_path)"
   ]
  },
  {
   "cell_type": "code",
   "execution_count": 38,
   "metadata": {
    "pycharm": {
     "name": "#%%\n"
    }
   },
   "outputs": [
    {
     "name": "stdout",
     "output_type": "stream",
     "text": [
      "mobigen\\mobigen_202103\\2021파이썬스터디\n"
     ]
    }
   ],
   "source": [
    "join_path = os.path.join(os_dir_name, os_sub_dir_name, os_folder_name)\n",
    "print(join_path)"
   ]
  },
  {
   "cell_type": "markdown",
   "metadata": {},
   "source": [
    "#### 파일 열기"
   ]
  },
  {
   "cell_type": "markdown",
   "metadata": {},
   "source": [
    "- path.open"
   ]
  },
  {
   "cell_type": "code",
   "execution_count": 48,
   "metadata": {},
   "outputs": [],
   "source": [
    "filename = 'write_test.txt'\n",
    "\n",
    "# without pathlib\n",
    "\n",
    "file = open(filename, 'r')\n",
    "\n",
    "# with pathlib\n",
    "\n",
    "path = Path(filename)\n",
    "\n",
    "file = path.open('r')"
   ]
  },
  {
   "cell_type": "markdown",
   "metadata": {},
   "source": [
    "#### 파일 읽고 쓰기"
   ]
  },
  {
   "cell_type": "markdown",
   "metadata": {},
   "source": [
    "- path.write_text()\n",
    "- pate.write_bytes()\n",
    "- Path.read_text()\n",
    "- Path.read_bytes()"
   ]
  },
  {
   "cell_type": "code",
   "execution_count": null,
   "metadata": {},
   "outputs": [],
   "source": [
    "filename = 'text.txt'\n",
    "\n",
    "# without pathlib\n",
    "file = open(filename, 'r')\n",
    "r = file.read()\n",
    "file.close()\n",
    "\n",
    "# without pathlib2\n",
    "with open(filename, 'r') as f:\n",
    "  r = f.read()\n",
    "\n",
    "# with pathlib\n",
    "path = Path(filename)\n",
    "r = path.read_text()"
   ]
  },
  {
   "cell_type": "markdown",
   "metadata": {},
   "source": [
    "### path 클래스의 상속 구조"
   ]
  },
  {
   "cell_type": "markdown",
   "metadata": {},
   "source": [
    "***"
   ]
  },
  {
   "attachments": {
    "image.png": {
     "image/png": "[encoded data removed]"
    }
   },
   "cell_type": "markdown",
   "metadata": {},
   "source": [
    "![image.png](attachment:image.png)"
   ]
  },
  {
   "cell_type": "markdown",
   "metadata": {},
   "source": [
    "PurePath (pure paths)와 Path (concrete path)의 차이점은 I/O와 관계된 메소드를 가지는 가에 대한 여부입니다.<br>\n",
    "\n",
    "일반적인 용도로 사용할 때에는 그냥 Path를 사용하면 됩니다. Path 오브젝트를 생성할때에 OS에 맞춘 하위 클래스를 리턴해줍니다."
   ]
  },
  {
   "cell_type": "code",
   "execution_count": 50,
   "metadata": {},
   "outputs": [
    {
     "data": {
      "text/plain": [
       "pathlib.WindowsPath"
      ]
     },
     "execution_count": 50,
     "metadata": {},
     "output_type": "execute_result"
    }
   ],
   "source": [
    "# windows machine에서 실행한 경우\n",
    "p = Path('.')\n",
    "type(p)"
   ]
  },
  {
   "cell_type": "markdown",
   "metadata": {},
   "source": [
    "한편, 다른 OS의 path를 다루고자 하는 경우에는 PurePath를 써야한다. 예를 들어 Windows OS에서 Unix Path를 생성하고자 하는 경우는 PosixPath()를 사용하는 대신 PurePosixPath()를 사용해야만 한다."
   ]
  },
  {
   "cell_type": "markdown",
   "metadata": {
    "pycharm": {
     "name": "#%% md\n"
    }
   },
   "source": [
    "# glob\n",
    "### Unix style pathname pattern expansion\n",
    "### 유닉스 스타일 경로명 패턴 확장\n",
    "----\n",
    "glob 모듈은 유닉스 셸이 사용하는 규칙에 따라 지정된 패턴과 일치하는 모든 경로명을 찾습니다."
   ]
  },
  {
   "cell_type": "markdown",
   "metadata": {},
   "source": [
    "- *: 전체 매칭\n",
    "- ?:  단일 문자 매칭\n",
    "- [seq] seq 안에 있는 임의의 문자 매칭 (예: [abc])\n",
    "- [!seq]: sequ에 있지 않은 임의의 문자 매칭"
   ]
  },
  {
   "cell_type": "code",
   "execution_count": 66,
   "metadata": {
    "pycharm": {
     "name": "#%%\n"
    }
   },
   "outputs": [],
   "source": [
    "import glob"
   ]
  },
  {
   "cell_type": "code",
   "execution_count": 73,
   "metadata": {
    "pycharm": {
     "name": "#%%\n"
    }
   },
   "outputs": [
    {
     "name": "stdout",
     "output_type": "stream",
     "text": [
      "['C:\\\\Users\\\\haein\\\\mobigen\\\\mobigen_202103\\\\2021파이썬스터디\\\\write_test.txt']\n"
     ]
    }
   ],
   "source": [
    "out=glob.glob(os.path.join(path_dir,'*.txt'))\n",
    "print(out)"
   ]
  },
  {
   "cell_type": "code",
   "execution_count": 75,
   "metadata": {
    "scrolled": true
   },
   "outputs": [
    {
     "name": "stdout",
     "output_type": "stream",
     "text": [
      "['C:\\\\Users\\\\haein\\\\mobigen\\\\mobigen_202103\\\\2021파이썬스터디\\\\week_04.ipynb', 'C:\\\\Users\\\\haein\\\\mobigen\\\\mobigen_202103\\\\2021파이썬스터디\\\\과제1_ O(n) 단어수 세는 프로그래밍.ipynb', 'C:\\\\Users\\\\haein\\\\mobigen\\\\mobigen_202103\\\\2021파이썬스터디\\\\보충1_Object (객체).ipynb', 'C:\\\\Users\\\\haein\\\\mobigen\\\\mobigen_202103\\\\2021파이썬스터디\\\\보충4_객체지향 VS 함수형.ipynb', 'C:\\\\Users\\\\haein\\\\mobigen\\\\mobigen_202103\\\\2021파이썬스터디\\\\보충4_람다함수.ipynb', 'C:\\\\Users\\\\haein\\\\mobigen\\\\mobigen_202103\\\\2021파이썬스터디\\\\보충4_반복과 이터레이션.ipynb', 'C:\\\\Users\\\\haein\\\\mobigen\\\\mobigen_202103\\\\2021파이썬스터디\\\\보충4_클래스 CLASS, 인스턴스, 객체.ipynb', 'C:\\\\Users\\\\haein\\\\mobigen\\\\mobigen_202103\\\\2021파이썬스터디\\\\보충4_함수.ipynb', 'C:\\\\Users\\\\haein\\\\mobigen\\\\mobigen_202103\\\\2021파이썬스터디\\\\스터디1_Built-in Types, Buit-in Exception.ipynb', 'C:\\\\Users\\\\haein\\\\mobigen\\\\mobigen_202103\\\\2021파이썬스터디\\\\스터디2_Text  Processing Services, Binary Data Services.ipynb', 'C:\\\\Users\\\\haein\\\\mobigen\\\\mobigen_202103\\\\2021파이썬스터디\\\\스터디3_Data Type -datetime, collections, copy.ipynb', 'C:\\\\Users\\\\haein\\\\mobigen\\\\mobigen_202103\\\\2021파이썬스터디\\\\스터디4_1_Functional Programming Modules.ipynb', 'C:\\\\Users\\\\haein\\\\mobigen\\\\mobigen_202103\\\\2021파이썬스터디\\\\스터디4_2_File and directory Access.ipynb', 'C:\\\\Users\\\\haein\\\\mobigen\\\\mobigen_202103\\\\2021파이썬스터디\\\\참고1_텍스트 빈도 분석 (엑셀 내용 추출 및 텍스트 저장, 정제, 빈도카운트, 워드클라우드 등)_한길.ipynb']\n"
     ]
    }
   ],
   "source": [
    "out=glob.glob(os.path.join(path_dir,'*.ipynb'))\n",
    "print(out)"
   ]
  },
  {
   "cell_type": "markdown",
   "metadata": {
    "pycharm": {
     "name": "#%% md\n"
    }
   },
   "source": [
    "### iglob(pathname, *, recursive=False)\n",
    "\n",
    "iglob는 glob()와 동일한 값을 반환하는 iterator를 반환합니다. <br>\n",
    "list object 를 저장하지 않고 iterable 한 generator 를 사용하면 메모리의 사용량을 줄일 수 있습니다."
   ]
  },
  {
   "cell_type": "code",
   "execution_count": null,
   "metadata": {
    "pycharm": {
     "name": "#%%\n"
    }
   },
   "outputs": [],
   "source": [
    "from glob import iglob"
   ]
  },
  {
   "cell_type": "markdown",
   "metadata": {},
   "source": [
    "`'**'`패턴의 의미는 현재 디렉토리와 모든 하위 디렉토리의 반복을 의미합니다. <br>\n",
    "대형 디렉토리 트리에서 `\"**\" `패턴을 사용하면 과도한 시간이 소요될 수 있습니다."
   ]
  },
  {
   "cell_type": "code",
   "execution_count": 94,
   "metadata": {
    "scrolled": false
   },
   "outputs": [
    {
     "name": "stdout",
     "output_type": "stream",
     "text": [
      "C:\\Users\\haein\\mobigen\\mobigen_202103\\2021파이썬스터디\\week_04.ipynb\n",
      "C:\\Users\\haein\\mobigen\\mobigen_202103\\2021파이썬스터디\\과제1_ O(n) 단어수 세는 프로그래밍.ipynb\n",
      "C:\\Users\\haein\\mobigen\\mobigen_202103\\2021파이썬스터디\\보충1_Object (객체).ipynb\n",
      "C:\\Users\\haein\\mobigen\\mobigen_202103\\2021파이썬스터디\\보충4_객체지향 VS 함수형.ipynb\n",
      "C:\\Users\\haein\\mobigen\\mobigen_202103\\2021파이썬스터디\\보충4_람다함수.ipynb\n",
      "C:\\Users\\haein\\mobigen\\mobigen_202103\\2021파이썬스터디\\보충4_반복과 이터레이션.ipynb\n",
      "C:\\Users\\haein\\mobigen\\mobigen_202103\\2021파이썬스터디\\보충4_클래스 CLASS, 인스턴스, 객체.ipynb\n",
      "C:\\Users\\haein\\mobigen\\mobigen_202103\\2021파이썬스터디\\보충4_함수.ipynb\n",
      "C:\\Users\\haein\\mobigen\\mobigen_202103\\2021파이썬스터디\\스터디1_Built-in Types, Buit-in Exception.ipynb\n",
      "C:\\Users\\haein\\mobigen\\mobigen_202103\\2021파이썬스터디\\스터디2_Text  Processing Services, Binary Data Services.ipynb\n",
      "C:\\Users\\haein\\mobigen\\mobigen_202103\\2021파이썬스터디\\스터디3_Data Type -datetime, collections, copy.ipynb\n",
      "C:\\Users\\haein\\mobigen\\mobigen_202103\\2021파이썬스터디\\스터디4_1_Functional Programming Modules.ipynb\n",
      "C:\\Users\\haein\\mobigen\\mobigen_202103\\2021파이썬스터디\\스터디4_2_File and directory Access.ipynb\n",
      "C:\\Users\\haein\\mobigen\\mobigen_202103\\2021파이썬스터디\\참고1_텍스트 빈도 분석 (엑셀 내용 추출 및 텍스트 저장, 정제, 빈도카운트, 워드클라우드 등)_한길.ipynb\n",
      "C:\\Users\\haein\\mobigen\\mobigen_202103\\2021파이썬스터디\\mobigen-python-study-2021\\week05\\presentation\\python_presen01.ipynb\n",
      "C:\\Users\\haein\\mobigen\\mobigen_202103\\2021파이썬스터디\\mobigen-python-study-2021\\week05\\presentation\\python_presen02_j.ipynb\n",
      "C:\\Users\\haein\\mobigen\\mobigen_202103\\2021파이썬스터디\\mobigen-python-study-2021\\week05\\presentation\\python_presen03.ipynb\n",
      "C:\\Users\\haein\\mobigen\\mobigen_202103\\2021파이썬스터디\\mobigen-python-study-2021\\week06\\presentation\\week_04_hi.ipynb\n"
     ]
    }
   ],
   "source": [
    "for file in iglob(os.path.join(path_dir,'**/*.ipynb'), recursive=True):\n",
    "    print(file)"
   ]
  },
  {
   "cell_type": "code",
   "execution_count": 103,
   "metadata": {},
   "outputs": [
    {
     "name": "stdout",
     "output_type": "stream",
     "text": [
      "C:\\Users\\haein\\mobigen\\mobigen_202103\\2021파이썬스터디\\week_04.ipynb\n",
      "C:\\Users\\haein\\mobigen\\mobigen_202103\\2021파이썬스터디\\과제1_ O(n) 단어수 세는 프로그래밍.ipynb\n",
      "C:\\Users\\haein\\mobigen\\mobigen_202103\\2021파이썬스터디\\보충1_Object (객체).ipynb\n",
      "C:\\Users\\haein\\mobigen\\mobigen_202103\\2021파이썬스터디\\보충4_객체지향 VS 함수형.ipynb\n",
      "C:\\Users\\haein\\mobigen\\mobigen_202103\\2021파이썬스터디\\보충4_람다함수.ipynb\n",
      "C:\\Users\\haein\\mobigen\\mobigen_202103\\2021파이썬스터디\\보충4_반복과 이터레이션.ipynb\n",
      "C:\\Users\\haein\\mobigen\\mobigen_202103\\2021파이썬스터디\\보충4_클래스 CLASS, 인스턴스, 객체.ipynb\n",
      "C:\\Users\\haein\\mobigen\\mobigen_202103\\2021파이썬스터디\\보충4_함수.ipynb\n",
      "C:\\Users\\haein\\mobigen\\mobigen_202103\\2021파이썬스터디\\스터디1_Built-in Types, Buit-in Exception.ipynb\n",
      "C:\\Users\\haein\\mobigen\\mobigen_202103\\2021파이썬스터디\\스터디2_Text  Processing Services, Binary Data Services.ipynb\n",
      "C:\\Users\\haein\\mobigen\\mobigen_202103\\2021파이썬스터디\\스터디3_Data Type -datetime, collections, copy.ipynb\n",
      "C:\\Users\\haein\\mobigen\\mobigen_202103\\2021파이썬스터디\\스터디4_1_Functional Programming Modules.ipynb\n",
      "C:\\Users\\haein\\mobigen\\mobigen_202103\\2021파이썬스터디\\스터디4_2_File and directory Access.ipynb\n",
      "C:\\Users\\haein\\mobigen\\mobigen_202103\\2021파이썬스터디\\참고1_텍스트 빈도 분석 (엑셀 내용 추출 및 텍스트 저장, 정제, 빈도카운트, 워드클라우드 등)_한길.ipynb\n",
      "C:\\Users\\haein\\mobigen\\mobigen_202103\\2021파이썬스터디\\mobigen-python-study-2021\\week05\\presentation\\python_presen01.ipynb\n",
      "C:\\Users\\haein\\mobigen\\mobigen_202103\\2021파이썬스터디\\mobigen-python-study-2021\\week05\\presentation\\python_presen02_j.ipynb\n",
      "C:\\Users\\haein\\mobigen\\mobigen_202103\\2021파이썬스터디\\mobigen-python-study-2021\\week05\\presentation\\python_presen03.ipynb\n",
      "C:\\Users\\haein\\mobigen\\mobigen_202103\\2021파이썬스터디\\mobigen-python-study-2021\\week06\\presentation\\week_04_hi.ipynb\n"
     ]
    }
   ],
   "source": [
    "for file in iglob(path_dir+'/**/*.ipynb', recursive=True):\n",
    "    print(file)"
   ]
  },
  {
   "cell_type": "code",
   "execution_count": 106,
   "metadata": {},
   "outputs": [
    {
     "name": "stdout",
     "output_type": "stream",
     "text": [
      "C:\\Users\\haein\\mobigen\\mobigen_202103\\2021파이썬스터디\n"
     ]
    }
   ],
   "source": [
    "print(Path.cwd())"
   ]
  },
  {
   "cell_type": "code",
   "execution_count": 107,
   "metadata": {
    "scrolled": true
   },
   "outputs": [
    {
     "name": "stdout",
     "output_type": "stream",
     "text": [
      ".\\week_04.ipynb\n",
      ".\\과제1_ O(n) 단어수 세는 프로그래밍.ipynb\n",
      ".\\보충1_Object (객체).ipynb\n",
      ".\\보충4_객체지향 VS 함수형.ipynb\n",
      ".\\보충4_람다함수.ipynb\n",
      ".\\보충4_반복과 이터레이션.ipynb\n",
      ".\\보충4_클래스 CLASS, 인스턴스, 객체.ipynb\n",
      ".\\보충4_함수.ipynb\n",
      ".\\스터디1_Built-in Types, Buit-in Exception.ipynb\n",
      ".\\스터디2_Text  Processing Services, Binary Data Services.ipynb\n",
      ".\\스터디3_Data Type -datetime, collections, copy.ipynb\n",
      ".\\스터디4_1_Functional Programming Modules.ipynb\n",
      ".\\스터디4_2_File and directory Access.ipynb\n",
      ".\\참고1_텍스트 빈도 분석 (엑셀 내용 추출 및 텍스트 저장, 정제, 빈도카운트, 워드클라우드 등)_한길.ipynb\n",
      ".\\mobigen-python-study-2021\\week05\\presentation\\python_presen01.ipynb\n",
      ".\\mobigen-python-study-2021\\week05\\presentation\\python_presen02_j.ipynb\n",
      ".\\mobigen-python-study-2021\\week05\\presentation\\python_presen03.ipynb\n",
      ".\\mobigen-python-study-2021\\week06\\presentation\\week_04_hi.ipynb\n"
     ]
    }
   ],
   "source": [
    "for file in iglob('./**/*.ipynb', recursive=True):\n",
    "    print(file)"
   ]
  },
  {
   "cell_type": "code",
   "execution_count": 104,
   "metadata": {},
   "outputs": [],
   "source": [
    "for file in iglob('./**/*.ipynb', recursive=False):\n",
    "    print(file)"
   ]
  },
  {
   "cell_type": "markdown",
   "metadata": {},
   "source": [
    "### pathlib glob"
   ]
  },
  {
   "cell_type": "code",
   "execution_count": 81,
   "metadata": {
    "scrolled": true
   },
   "outputs": [
    {
     "data": {
      "text/plain": [
       "[WindowsPath('.ipynb_checkpoints'),\n",
       " WindowsPath('2주차_BuiltInType'),\n",
       " WindowsPath('mobigen-python-study-2021')]"
      ]
     },
     "execution_count": 81,
     "metadata": {},
     "output_type": "execute_result"
    }
   ],
   "source": [
    "p=Path(\".\")\n",
    "[x for x in p.iterdir() if x.is_dir()]"
   ]
  },
  {
   "cell_type": "code",
   "execution_count": 83,
   "metadata": {},
   "outputs": [
    {
     "data": {
      "text/plain": [
       "[WindowsPath('week_04.ipynb'),\n",
       " WindowsPath('과제1_ O(n) 단어수 세는 프로그래밍.ipynb'),\n",
       " WindowsPath('보충1_Object (객체).ipynb'),\n",
       " WindowsPath('보충4_객체지향 VS 함수형.ipynb'),\n",
       " WindowsPath('보충4_람다함수.ipynb'),\n",
       " WindowsPath('보충4_반복과 이터레이션.ipynb'),\n",
       " WindowsPath('보충4_클래스 CLASS, 인스턴스, 객체.ipynb'),\n",
       " WindowsPath('보충4_함수.ipynb'),\n",
       " WindowsPath('스터디1_Built-in Types, Buit-in Exception.ipynb'),\n",
       " WindowsPath('스터디2_Text  Processing Services, Binary Data Services.ipynb'),\n",
       " WindowsPath('스터디3_Data Type -datetime, collections, copy.ipynb'),\n",
       " WindowsPath('스터디4_1_Functional Programming Modules.ipynb'),\n",
       " WindowsPath('스터디4_2_File and directory Access.ipynb'),\n",
       " WindowsPath('참고1_텍스트 빈도 분석 (엑셀 내용 추출 및 텍스트 저장, 정제, 빈도카운트, 워드클라우드 등)_한길.ipynb'),\n",
       " WindowsPath('.ipynb_checkpoints/week_04-checkpoint.ipynb'),\n",
       " WindowsPath('.ipynb_checkpoints/과제1_ O(n) 단어수 세는 프로그래밍-checkpoint.ipynb'),\n",
       " WindowsPath('.ipynb_checkpoints/보충1_Object (객체)-checkpoint.ipynb'),\n",
       " WindowsPath('.ipynb_checkpoints/보충4_객체지향 VS 함수형-checkpoint.ipynb'),\n",
       " WindowsPath('.ipynb_checkpoints/보충4_람다함수-checkpoint.ipynb'),\n",
       " WindowsPath('.ipynb_checkpoints/보충4_반복과 이터레이션-checkpoint.ipynb'),\n",
       " WindowsPath('.ipynb_checkpoints/보충4_클래스 CLASS, 인스턴스, 객체-checkpoint.ipynb'),\n",
       " WindowsPath('.ipynb_checkpoints/보충4_함수-checkpoint.ipynb'),\n",
       " WindowsPath('.ipynb_checkpoints/스터디1_Built-in Types, Buit-in Exception-checkpoint.ipynb'),\n",
       " WindowsPath('.ipynb_checkpoints/스터디2_Text  Processing Services, Binary Data Services-checkpoint.ipynb'),\n",
       " WindowsPath('.ipynb_checkpoints/스터디3_Data Type -datetime, collections, copy-checkpoint.ipynb'),\n",
       " WindowsPath('.ipynb_checkpoints/스터디4_1_Functional Programming Modules-checkpoint.ipynb'),\n",
       " WindowsPath('.ipynb_checkpoints/스터디4_2_File and directory Access-checkpoint.ipynb'),\n",
       " WindowsPath('.ipynb_checkpoints/참고1_텍스트 빈도 분석 (엑셀 내용 추출 및 텍스트 저장, 정제, 빈도카운트, 워드클라우드 등)_한길-checkpoint.ipynb'),\n",
       " WindowsPath('mobigen-python-study-2021/week05/presentation/python_presen01.ipynb'),\n",
       " WindowsPath('mobigen-python-study-2021/week05/presentation/python_presen02_j.ipynb'),\n",
       " WindowsPath('mobigen-python-study-2021/week05/presentation/python_presen03.ipynb'),\n",
       " WindowsPath('mobigen-python-study-2021/week06/presentation/week_04_hi.ipynb')]"
      ]
     },
     "execution_count": 83,
     "metadata": {},
     "output_type": "execute_result"
    }
   ],
   "source": [
    "list(p.glob('**/*.ipynb'))"
   ]
  },
  {
   "cell_type": "markdown",
   "metadata": {},
   "source": [
    "#  Appendix"
   ]
  },
  {
   "cell_type": "markdown",
   "metadata": {},
   "source": [
    "***"
   ]
  },
  {
   "cell_type": "markdown",
   "metadata": {},
   "source": [
    "### 1. 파일 목록 얻기"
   ]
  },
  {
   "cell_type": "markdown",
   "metadata": {},
   "source": [
    "#### (1) glob.glob(wildcard)\n",
    "유닉스 경로명 패턴 스타일로 파일 목록을 얻을 수 있다.<br>\n",
    "#### (2) os.listdir(path)\n",
    "지정된 디렉토리의 전체 파일 목록을 얻을 수 있다.<br>\n",
    "#### (3) dircache.listdir(path)\n",
    "os.listdir(path)와 동일한 파일 목록을 전달한다.<br>\n",
    "path가 변경되지 않았을 때, dircache.listdir()은 다시 디렉토리 구조를 읽지 않고 이미 읽은 정보를 활용\n",
    "#### dircache.annotate(head, list)\n",
    "일반 파일명과 디렉토리명을 구분해주는 함수"
   ]
  },
  {
   "cell_type": "markdown",
   "metadata": {},
   "source": [
    "### 2. 디렉토리 다루기"
   ]
  },
  {
   "cell_type": "markdown",
   "metadata": {},
   "source": [
    "os.chdir(path) - 작업하고 있는 디렉토리 변경<br>\n",
    "os.getcwd() - 현재 프로세스의 작업 디렉토리 얻기<br>\n",
    "os.remove( filename or path ) - 파일이나 디렉토리 지우기<br>\n",
    "os.mkdir( path ) - 디렉토리 만들기<br>\n",
    "os.makedirs( path ) - 디렉토리 만들기와 동일하지만 /tmp/include/gl/temp 처럼 긴 경로를 한번에 만들어 준다.<br>\n",
    "os.path.abspath(filename) - 파일의 상대 경로를 절대 경로로 바꾸는 함수<br>\n",
    "os.path.exists(filename) - 주어진 경로의 파일이 있는지 확인하는 함수<br>\n",
    "os.curdir() - 현재 디렉토리 얻기<br>\n",
    "os.pardir() - 부모 디렉토리 얻기<br>\n",
    "os.sep() - 디렉토리 분리 문자 얻기. windows는 \\ linux는 / 를 반환한다.<br>"
   ]
  },
  {
   "cell_type": "markdown",
   "metadata": {},
   "source": [
    "### 4. 경로명 분리하기\n",
    "os.path.basename(filename) - 파일명만 추출<br>\n",
    "os.path.dirname(filename) - 디렉토리 경로 추출<br>\n",
    "os.path.split(filename) - 경로와 파일명을 분리<br>\n",
    "os.path.splitdrive(filename) - 드라이브명과 나머지 분리 (MS Windows의 경우)<br>\n",
    "os.path.splitext(filename) - 확장자와 나머지 분리<br>"
   ]
  }
 ],
 "metadata": {
  "kernelspec": {
   "display_name": "Python 3",
   "language": "python",
   "name": "python3"
  },
  "language_info": {
   "codemirror_mode": {
    "name": "ipython",
    "version": 3
   },
   "file_extension": ".py",
   "mimetype": "text/x-python",
   "name": "python",
   "nbconvert_exporter": "python",
   "pygments_lexer": "ipython3",
   "version": "3.8.3"
  }
 },
 "nbformat": 4,
 "nbformat_minor": 1
}
