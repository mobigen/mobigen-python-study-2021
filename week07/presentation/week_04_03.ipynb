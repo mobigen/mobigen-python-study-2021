{
 "cells": [
  {
   "cell_type": "markdown",
   "source": [
    "메모리 사용량 감소"
   ],
   "metadata": {
    "collapsed": false
   }
  },
  {
   "cell_type": "code",
   "execution_count": null,
   "outputs": [],
   "source": [
    "from itertools import repeat\n",
    "import sys\n",
    "\n",
    "빵기계 = repeat('빵가루', times=1000)\n",
    "\n",
    "print(f'빵기계 : {sys.getsizeof(빵기계)} byte')\n",
    "\n",
    "빵기계가_만든_value = next(빵기계)\n",
    "\n",
    "print(f'빵기계가_만든_value : {빵기계가_만든_value}')\n",
    "print(f'빵기계가_만든_value size : {sys.getsizeof(빵기계가_만든_value)} byte\\n')\n",
    "\n",
    "\n",
    "빵_list = ['빵가루'] * 1000\n",
    "print(f'빵_list : {빵_list}')\n",
    "print(f'빵_list size : {sys.getsizeof(빵_list)} byte\\n')\n"
   ],
   "metadata": {
    "collapsed": false,
    "pycharm": {
     "name": "#%%\n"
    }
   }
  },
  {
   "cell_type": "markdown",
   "source": [
    "위 예제에서 살펴봤다시피<br>\n",
    "- 빵기계는 1000개의 빵가루를 만들수 있는 기계를 들고 다닐수 있다\n",
    "- 이와 다르게 빵_list 는 빵가루 1000개를 들고 다닌다."
   ],
   "metadata": {
    "collapsed": false
   }
  },
  {
   "cell_type": "markdown",
   "source": [
    "# functools\n",
    "\n",
    "reference를 봐도 decorator가 뭔지 모르면 이해를 못한다\n",
    "\n",
    "따라서 decorator에 대해서 알아 보고 functools의 함수 사용은 각자 해보자"
   ],
   "metadata": {
    "collapsed": false
   }
  },
  {
   "cell_type": "markdown",
   "source": [
    "## decorator\n",
    "\n",
    "어떠한 함수를 다른 함수에 적용해서, 적용된 함수가 실행되기 전에 실행하는 함수\n",
    "\n",
    "함수를 수정하지 않은 상태에서 추가 기능을 구현할 때 사용한다.\n",
    "\n"
   ],
   "metadata": {
    "collapsed": false
   }
  },
  {
   "cell_type": "markdown",
   "source": [
    "- decorator를 사용한 예시"
   ],
   "metadata": {
    "collapsed": false
   }
  },
  {
   "cell_type": "code",
   "execution_count": null,
   "outputs": [],
   "source": [
    "def deco(func):\n",
    "    def decorator():\n",
    "        print('<<Start decorator>>')\n",
    "        func()\n",
    "        print('<<End decorator>>')\n",
    "    return decorator\n",
    "\n",
    "@deco\n",
    "def functions():\n",
    "    print('Running ((functions))...')\n",
    "\n",
    "functions()"
   ],
   "metadata": {
    "collapsed": false,
    "pycharm": {
     "name": "#%%\n"
    }
   }
  },
  {
   "cell_type": "markdown",
   "source": [
    "- decorator를 사용하지 않은 예시"
   ],
   "metadata": {
    "collapsed": false
   }
  },
  {
   "cell_type": "code",
   "execution_count": null,
   "outputs": [],
   "source": [
    "def functions():\n",
    "    print('<<Start decorator>>')\n",
    "    print('Running ((functions))...')\n",
    "    print('<<End decorator>>')\n",
    "\n",
    "functions()"
   ],
   "metadata": {
    "collapsed": false,
    "pycharm": {
     "name": "#%%\n"
    }
   }
  },
  {
   "cell_type": "markdown",
   "source": [
    "둘의 결과는 같게 나온다\n",
    "같게 나오면 굳이 쓸 필요가 있을까?"
   ],
   "metadata": {
    "collapsed": false
   }
  },
  {
   "cell_type": "markdown",
   "source": [
    "- decorator를 사용한 경우"
   ],
   "metadata": {
    "collapsed": false
   }
  },
  {
   "cell_type": "code",
   "execution_count": null,
   "outputs": [],
   "source": [
    "def deco(func):\n",
    "    def wrapper(*args, **kwargs):\n",
    "        print('<<Start decorator>>')\n",
    "        print('some func1')\n",
    "        print('some func2')\n",
    "        print('some func3')\n",
    "        print('some func5')\n",
    "        print('some func4')\n",
    "        return func(*args, **kwargs)\n",
    "    return wrapper\n",
    "\n",
    "@deco\n",
    "def add_more(a, b):\n",
    "    print(f'{a} + {b} = {a+b}\\n')\n",
    "\n",
    "@deco\n",
    "def multi_more(a, b):\n",
    "    print(f'{a} * {b} = {a*b}\\n')\n",
    "\n",
    "@deco\n",
    "def print_more(a):\n",
    "    print(f'{a * 3}')\n",
    "\n",
    "add_more(1, 2)\n",
    "\n",
    "multi_more(3, 4)\n",
    "\n",
    "print_more('test ')\n"
   ],
   "metadata": {
    "collapsed": false,
    "pycharm": {
     "name": "#%%\n"
    }
   }
  },
  {
   "cell_type": "markdown",
   "source": [
    "- decorator를 사용하지 않은 경우"
   ],
   "metadata": {
    "collapsed": false
   }
  },
  {
   "cell_type": "code",
   "execution_count": null,
   "outputs": [],
   "source": [
    "def add_more(a, b):\n",
    "    print('<<Start decorator>>')\n",
    "    print('some func1')\n",
    "    print('some func2')\n",
    "    print('some func3')\n",
    "    print('some func5')\n",
    "    print('some func4')\n",
    "    print(f'{a} + {b} = {a+b}\\n')\n",
    "\n",
    "def multi_more(a, b):\n",
    "    print('<<Start decorator>>')\n",
    "    print('some func1')\n",
    "    print('some func2')\n",
    "    print('some func3')\n",
    "    print('some func5')\n",
    "    print('some func4')\n",
    "    print(f'{a} * {b} = {a*b}\\n')\n",
    "\n",
    "def print_more(a):\n",
    "    print('<<Start decorator>>')\n",
    "    print('some func1')\n",
    "    print('some func2')\n",
    "    print('some func3')\n",
    "    print('some func5')\n",
    "    print('some func4')\n",
    "    print(f'{a * 3}')\n",
    "\n",
    "add_more(1, 2)\n",
    "\n",
    "multi_more(3, 4)\n",
    "\n",
    "print_more('test ')"
   ],
   "metadata": {
    "collapsed": false,
    "pycharm": {
     "name": "#%%\n"
    }
   }
  },
  {
   "cell_type": "markdown",
   "source": [
    "결론적으로 decorator 를 사용하지 않고도 코드를 작성할 수 있다.<br>\n",
    "하지만 코드를 간결하고 혹은 유지보수에 능하게 코드를 관리하고 싶다면 <br>\n",
    "고려해볼만한 코드 스타일이라 생각된다.\n",
    "\n",
    "그럼 좀더 알아보자\n",
    "지금까지 iterator, operator, generator 처럼 tor 가 붙는 것들은 <br>\n",
    "다 객체(object) 를 가지고 코드를 활성화 시켜 줬는데 decorator 는 없을까? <br>\n",
    "있다."
   ],
   "metadata": {
    "collapsed": false
   }
  },
  {
   "cell_type": "code",
   "execution_count": null,
   "outputs": [],
   "source": [
    "class MyDecorator(object):\n",
    "    def __init__(self, prefix=None):\n",
    "        self.prefix = prefix\n",
    "\n",
    "    def __call__(self, func):\n",
    "        def wrapper(**kwargs):\n",
    "            print(f'Thist is {self.prefix}')\n",
    "\n",
    "            if kwargs.get('a'):\n",
    "                print(kwargs.get('a'))\n",
    "\n",
    "            return func(**kwargs)\n",
    "\n",
    "        return wrapper\n",
    "\n",
    "\n",
    "@MyDecorator()\n",
    "def test1():\n",
    "    print('this is a func\\n')\n",
    "\n",
    "@MyDecorator(prefix='Class Decorator')\n",
    "def test2(a):\n",
    "    print('this is a func')\n",
    "\n",
    "\n",
    "test1()\n",
    "test2(a='test2')"
   ],
   "metadata": {
    "collapsed": false,
    "pycharm": {
     "name": "#%%\n"
    }
   }
  },
  {
   "cell_type": "code",
   "execution_count": null,
   "outputs": [],
   "source": [
    "from functools import wraps\n",
    "\n",
    "class MyDecorator(object):\n",
    "    def __init__(self, prefix=None):\n",
    "        self.prefix = prefix\n",
    "\n",
    "    def __call__(self, func):\n",
    "        # @wraps(func)                      # 3\n",
    "        def wrapper(**kwargs):\n",
    "            # print(func)                   # 2\n",
    "            # print(func.__doc__)\n",
    "            # print(func.__name__)\n",
    "\n",
    "\n",
    "            return func(**kwargs)\n",
    "\n",
    "        return wrapper\n",
    "\n",
    "\n",
    "# @MyDecorator()            # 1\n",
    "def test1():\n",
    "    \"\"\"This is docs\"\"\"\n",
    "\n",
    "test1()\n",
    "\n",
    "print()\n",
    "\n",
    "print(test1)                # 0\n",
    "print(test1.__doc__)\n",
    "print(test1.__name__)"
   ],
   "metadata": {
    "collapsed": false,
    "pycharm": {
     "name": "#%%\n"
    }
   }
  },
  {
   "cell_type": "markdown",
   "source": [
    "functools.wraps 를 사용하지 않은 decorator 는 decorate 된 함수의 메타데이터를\n",
    " 자신의 것으로 변경한다.<br>\n",
    "functools.wraps 를 사용하면 데커레이트된 함수의 메타데이터를 복사해서 데커레이트의\n",
    "내포함수에 복사해주게 되므로,<br>\n",
    "메타 데이터를 덮어 써서 생기는미묘한 문제들을 방지할 수 있다.<br>\n",
    "그러니 일반적으로 데커레이터를 만들때는 거의 functools.wraps 를 사용해야 한다고 보면 된다\n"
   ],
   "metadata": {
    "collapsed": false
   }
  },
  {
   "cell_type": "markdown",
   "source": [
    "### decorator 언제 쓸까?\n",
    "- 물론 로직을 다르게 사용하면 굳이 이런형식으로 사용할 필요는 없다"
   ],
   "metadata": {
    "collapsed": false
   }
  },
  {
   "cell_type": "markdown",
   "source": [
    "- test 환경"
   ],
   "metadata": {
    "collapsed": false
   }
  },
  {
   "cell_type": "code",
   "execution_count": null,
   "outputs": [],
   "source": [
    "def error(func):\n",
    "    def wrapper(**kwargs):\n",
    "        try:\n",
    "            return func(**kwargs)\n",
    "        except Exception as e:\n",
    "            raise e\n",
    "    return wrapper\n",
    "\n",
    "@error\n",
    "def test1():\n",
    "    return 1/2\n",
    "\n",
    "@error\n",
    "def test2():\n",
    "    return 1/0\n",
    "\n",
    "\n",
    "print(test1())\n",
    "print(test2())\n"
   ],
   "metadata": {
    "collapsed": false,
    "pycharm": {
     "name": "#%%\n"
    }
   }
  },
  {
   "cell_type": "markdown",
   "source": [
    "- api 통신중 인증이 필요로 할때"
   ],
   "metadata": {
    "collapsed": false
   }
  },
  {
   "cell_type": "code",
   "execution_count": null,
   "outputs": [],
   "source": [
    "@auth\n",
    "@app.route('/test/123')\n",
    "def test_123():\n",
    "    pass\n"
   ],
   "metadata": {
    "collapsed": false,
    "pycharm": {
     "name": "#%%\n"
    }
   }
  },
  {
   "cell_type": "markdown",
   "source": [
    "- 앞서 캐시가 존재하는지에 대한 여부를 확인 할때"
   ],
   "metadata": {
    "collapsed": false
   }
  },
  {
   "cell_type": "code",
   "execution_count": null,
   "outputs": [],
   "source": [
    "@cached\n",
    "def some_func():\n",
    "    pass\n",
    "\n"
   ],
   "metadata": {
    "collapsed": false,
    "pycharm": {
     "name": "#%%\n"
    }
   }
  },
  {
   "cell_type": "markdown",
   "source": [
    "## generator\n",
    "- iterator를 만들어주는것을 말한다\n",
    "- generator 객체에서 \\_\\_next__ 메서드를 호출할 때마다 함수 안의 yield 까지 코드를 실행하며<br>\n",
    " yield 에서 값을 발생(generate) 시킨다\n"
   ],
   "metadata": {
    "collapsed": false
   }
  },
  {
   "cell_type": "code",
   "execution_count": null,
   "outputs": [],
   "source": [
    "def square_numbers(nums):\n",
    "    result = []\n",
    "    for i in nums:\n",
    "        result.append(i * i)\n",
    "    return result\n",
    "\n",
    "my_nums = square_numbers([1, 2, 3, 4, 5])\n",
    "print(my_nums)"
   ],
   "metadata": {
    "collapsed": false,
    "pycharm": {
     "name": "#%%\n"
    }
   }
  },
  {
   "cell_type": "code",
   "execution_count": null,
   "outputs": [],
   "source": [
    "def square_numbers_generate(nums):\n",
    "    for i in nums:\n",
    "        yield i * i\n",
    "\n",
    "my_nums = square_numbers_generate([1, 2, 3, 4, 5])\n",
    "print(my_nums)\n",
    "print(next(my_nums))\n",
    "print(next(my_nums))\n",
    "print(next(my_nums))\n",
    "print(next(my_nums))\n",
    "print(next(my_nums))\n",
    "print(next(my_nums))\n"
   ],
   "metadata": {
    "collapsed": false,
    "pycharm": {
     "name": "#%%\n"
    }
   }
  },
  {
   "cell_type": "code",
   "execution_count": null,
   "outputs": [],
   "source": [
    "def square_numbers_generate(nums):\n",
    "    for i in nums:\n",
    "        yield i * i\n",
    "\n",
    "my_nums2 = square_numbers_generate(iter([1, 2, 3, 4, 5]))\n",
    "\n",
    "for num in my_nums2:\n",
    "    print(num)"
   ],
   "metadata": {
    "collapsed": false,
    "pycharm": {
     "name": "#%%\n"
    }
   }
  },
  {
   "cell_type": "markdown",
   "source": [
    "## 언제 혹은 어떻게 쓸까?"
   ],
   "metadata": {
    "collapsed": false
   }
  },
  {
   "cell_type": "code",
   "execution_count": null,
   "outputs": [],
   "source": [
    "import psutil\n",
    "import random\n",
    "import os\n",
    "import time\n",
    "\n",
    "names = ['A', 'B', 'C', 'D', 'E', 'F']\n",
    "majors = [1,2,3,4,5,6,7,8]\n",
    "\n",
    "process = psutil.Process(os.getpid())\n",
    "mem_before = process.memory_info().rss / 1024 / 1024\n",
    "\n",
    "def people_list(num_people):\n",
    "    result = []\n",
    "    for i in range(num_people):\n",
    "        person = {\n",
    "            'id': i,\n",
    "            'name': random.choice(names),\n",
    "            'major': random.choice(majors)\n",
    "        }\n",
    "        result.append(person)\n",
    "    return result\n",
    "\n",
    "t1 = time.clock()\n",
    "people = people_list(1000000)  #1 people_list를 호출\n",
    "t2 = time.clock()\n",
    "\n",
    "mem_after = process.memory_info().rss / 1024 / 1024\n",
    "total_time = t2 - t1\n",
    "\n",
    "print('시작 전 메모리 사용량: {} MB'.format(mem_before))\n",
    "print('종료 후 메모리 사용량: {} MB'.format(mem_after))\n",
    "print('총 소요된 시간: {:.6f} 초'.format(total_time))\n"
   ],
   "metadata": {
    "collapsed": false,
    "pycharm": {
     "name": "#%%\n"
    }
   }
  },
  {
   "cell_type": "code",
   "execution_count": null,
   "outputs": [],
   "source": [],
   "metadata": {
    "collapsed": false,
    "pycharm": {
     "name": "#%%\n"
    }
   }
  },
  {
   "cell_type": "markdown",
   "source": [
    "메모리 사용량 감소"
   ],
   "metadata": {
    "collapsed": false
   }
  },
  {
   "cell_type": "code",
   "execution_count": null,
   "outputs": [],
   "source": [
    "from itertools import repeat\n",
    "import sys\n",
    "\n",
    "빵기계 = repeat('빵가루', times=1000)\n",
    "\n",
    "print(f'빵기계 : {sys.getsizeof(빵기계)} byte')\n",
    "\n",
    "빵기계가_만든_value = next(빵기계)\n",
    "\n",
    "print(f'빵기계가_만든_value : {빵기계가_만든_value}')\n",
    "print(f'빵기계가_만든_value size : {sys.getsizeof(빵기계가_만든_value)} byte\\n')\n",
    "\n",
    "\n",
    "빵_list = ['빵가루'] * 1000\n",
    "print(f'빵_list : {빵_list}')\n",
    "print(f'빵_list size : {sys.getsizeof(빵_list)} byte\\n')\n"
   ],
   "metadata": {
    "collapsed": false,
    "pycharm": {
     "name": "#%%\n"
    }
   }
  },
  {
   "cell_type": "markdown",
   "source": [
    "위 예제에서 살펴봤다시피<br>\n",
    "- 빵기계는 1000개의 빵가루를 만들수 있는 기계를 들고 다닐수 있다\n",
    "- 이와 다르게 빵_list 는 빵가루 1000개를 들고 다닌다."
   ],
   "metadata": {
    "collapsed": false
   }
  },
  {
   "cell_type": "markdown",
   "source": [
    "# functools\n",
    "\n",
    "reference를 봐도 decorator가 뭔지 모르면 이해를 못한다\n",
    "\n",
    "따라서 decorator에 대해서 알아 보고 functools의 함수 사용은 각자 해보자"
   ],
   "metadata": {
    "collapsed": false
   }
  },
  {
   "cell_type": "markdown",
   "source": [
    "## decorator\n",
    "\n",
    "어떠한 함수를 다른 함수에 적용해서, 적용된 함수가 실행되기 전에 실행하는 함수\n",
    "\n",
    "함수를 수정하지 않은 상태에서 추가 기능을 구현할 때 사용한다.\n",
    "\n"
   ],
   "metadata": {
    "collapsed": false
   }
  },
  {
   "cell_type": "markdown",
   "source": [
    "- decorator를 사용한 예시"
   ],
   "metadata": {
    "collapsed": false
   }
  },
  {
   "cell_type": "code",
   "execution_count": null,
   "outputs": [],
   "source": [
    "def deco(func):\n",
    "    def decorator():\n",
    "        print('<<Start decorator>>')\n",
    "        func()\n",
    "        print('<<End decorator>>')\n",
    "    return decorator\n",
    "\n",
    "@deco\n",
    "def functions():\n",
    "    print('Running ((functions))...')\n",
    "\n",
    "functions()"
   ],
   "metadata": {
    "collapsed": false,
    "pycharm": {
     "name": "#%%\n"
    }
   }
  },
  {
   "cell_type": "markdown",
   "source": [
    "- decorator를 사용하지 않은 예시"
   ],
   "metadata": {
    "collapsed": false
   }
  },
  {
   "cell_type": "code",
   "execution_count": null,
   "outputs": [],
   "source": [
    "def functions():\n",
    "    print('<<Start decorator>>')\n",
    "    print('Running ((functions))...')\n",
    "    print('<<End decorator>>')\n",
    "\n",
    "functions()"
   ],
   "metadata": {
    "collapsed": false,
    "pycharm": {
     "name": "#%%\n"
    }
   }
  },
  {
   "cell_type": "markdown",
   "source": [
    "둘의 결과는 같게 나온다<br>\n",
    "같게 나오면 굳이 쓸 필요가 있을까?"
   ],
   "metadata": {
    "collapsed": false
   }
  },
  {
   "cell_type": "markdown",
   "source": [
    "- decorator를 사용한 경우"
   ],
   "metadata": {
    "collapsed": false
   }
  },
  {
   "cell_type": "code",
   "execution_count": null,
   "outputs": [],
   "source": [
    "def deco(func):\n",
    "    def wrapper(*args, **kwargs):\n",
    "        print('<<Start decorator>>')\n",
    "        print('some func1')\n",
    "        print('some func2')\n",
    "        print('some func3')\n",
    "        print('some func5')\n",
    "        print('some func4')\n",
    "        return func(*args, **kwargs)\n",
    "    return wrapper\n",
    "\n",
    "@deco\n",
    "def add_more(a, b):\n",
    "    print(f'{a} + {b} = {a+b}\\n')\n",
    "\n",
    "@deco\n",
    "def multi_more(a, b):\n",
    "    print(f'{a} * {b} = {a*b}\\n')\n",
    "\n",
    "@deco\n",
    "def print_more(a):\n",
    "    print(f'{a * 3}')\n",
    "\n",
    "add_more(1, 2)\n",
    "\n",
    "multi_more(3, 4)\n",
    "\n",
    "print_more('test ')\n"
   ],
   "metadata": {
    "collapsed": false,
    "pycharm": {
     "name": "#%%\n"
    }
   }
  },
  {
   "cell_type": "markdown",
   "source": [
    "- decorator를 사용하지 않은 경우"
   ],
   "metadata": {
    "collapsed": false
   }
  },
  {
   "cell_type": "code",
   "execution_count": null,
   "outputs": [],
   "source": [
    "def add_more(a, b):\n",
    "    print('<<Start decorator>>')\n",
    "    print('some func1')\n",
    "    print('some func2')\n",
    "    print('some func3')\n",
    "    print('some func5')\n",
    "    print('some func4')\n",
    "    print(f'{a} + {b} = {a+b}\\n')\n",
    "\n",
    "def multi_more(a, b):\n",
    "    print('<<Start decorator>>')\n",
    "    print('some func1')\n",
    "    print('some func2')\n",
    "    print('some func3')\n",
    "    print('some func5')\n",
    "    print('some func4')\n",
    "    print(f'{a} * {b} = {a*b}\\n')\n",
    "\n",
    "def print_more(a):\n",
    "    print('<<Start decorator>>')\n",
    "    print('some func1')\n",
    "    print('some func2')\n",
    "    print('some func3')\n",
    "    print('some func5')\n",
    "    print('some func4')\n",
    "    print(f'{a * 3}')\n",
    "\n",
    "add_more(1, 2)\n",
    "\n",
    "multi_more(3, 4)\n",
    "\n",
    "print_more('test ')"
   ],
   "metadata": {
    "collapsed": false,
    "pycharm": {
     "name": "#%%\n"
    }
   }
  },
  {
   "cell_type": "markdown",
   "source": [
    "결론적으로 decorator 를 사용하지 않고도 코드를 작성할 수 있다.<br>\n",
    "하지만 코드를 간결하고 혹은 유지보수에 능하게 코드를 관리하고 싶다면 <br>\n",
    "고려해볼만한 코드 스타일이라 생각된다.\n",
    "\n",
    "그럼 좀더 알아보자\n",
    "지금까지 iterator, operator, generator 처럼 tor 가 붙는 것들은 <br>\n",
    "다 객체(object) 를 가지고 코드를 활성화 시켜 줬는데 decorator 는 없을까? <br>\n",
    "있다."
   ],
   "metadata": {
    "collapsed": false
   }
  },
  {
   "cell_type": "code",
   "execution_count": null,
   "outputs": [],
   "source": [
    "class MyDecorator(object):\n",
    "    def __init__(self, prefix=None):\n",
    "        self.prefix = prefix\n",
    "\n",
    "    def __call__(self, func):\n",
    "        def wrapper(**kwargs):\n",
    "            print(f'Thist is {self.prefix}')\n",
    "\n",
    "            if kwargs.get('a'):\n",
    "                print(kwargs.get('a'))\n",
    "\n",
    "            return func(**kwargs)\n",
    "\n",
    "        return wrapper\n",
    "\n",
    "\n",
    "@MyDecorator()\n",
    "def test1():\n",
    "    print('this is a func\\n')\n",
    "\n",
    "@MyDecorator(prefix='Class Decorator')\n",
    "def test2(a):\n",
    "    print('this is a func')\n",
    "\n",
    "\n",
    "test1()\n",
    "test2(a='test2')"
   ],
   "metadata": {
    "collapsed": false,
    "pycharm": {
     "name": "#%%\n"
    }
   }
  },
  {
   "cell_type": "code",
   "execution_count": null,
   "outputs": [],
   "source": [
    "from functools import wraps\n",
    "\n",
    "class MyDecorator(object):\n",
    "    def __init__(self, prefix=None):\n",
    "        self.prefix = prefix\n",
    "\n",
    "    def __call__(self, func):\n",
    "        # @wraps(func)                      # 3\n",
    "        def wrapper(**kwargs):\n",
    "            # print(func)                   # 2\n",
    "            # print(func.__doc__)\n",
    "            # print(func.__name__)\n",
    "\n",
    "\n",
    "            return func(**kwargs)\n",
    "\n",
    "        return wrapper\n",
    "\n",
    "\n",
    "# @MyDecorator()            # 1\n",
    "def test1():\n",
    "    \"\"\"This is docs\"\"\"\n",
    "\n",
    "test1()\n",
    "\n",
    "print()\n",
    "\n",
    "print(test1)                # 0\n",
    "print(test1.__doc__)\n",
    "print(test1.__name__)"
   ],
   "metadata": {
    "collapsed": false,
    "pycharm": {
     "name": "#%%\n"
    }
   }
  },
  {
   "cell_type": "markdown",
   "source": [
    "functools.wraps 를 사용하지 않은 decorator 는 decorate 된 함수의 메타데이터를\n",
    " 자신의 것으로 변경한다.<br>\n",
    "functools.wraps 를 사용하면 데커레이트된 함수의 메타데이터를 복사해서 데커레이트의\n",
    "내포함수에 복사해주게 되므로,<br>\n",
    "메타 데이터를 덮어 써서 생기는미묘한 문제들을 방지할 수 있다.<br>\n",
    "그러니 일반적으로 데커레이터를 만들때는 거의 functools.wraps 를 사용해야 한다고 보면 된다\n"
   ],
   "metadata": {
    "collapsed": false
   }
  },
  {
   "cell_type": "markdown",
   "source": [
    "### decorator 언제 쓸까?\n",
    "- 물론 로직을 다르게 사용하면 굳이 이런형식으로 사용할 필요는 없다"
   ],
   "metadata": {
    "collapsed": false
   }
  },
  {
   "cell_type": "markdown",
   "source": [
    "- test 환경"
   ],
   "metadata": {
    "collapsed": false
   }
  },
  {
   "cell_type": "code",
   "execution_count": null,
   "outputs": [],
   "source": [
    "def error(func):\n",
    "    def wrapper(**kwargs):\n",
    "        try:\n",
    "            return func(**kwargs)\n",
    "        except Exception as e:\n",
    "            raise e\n",
    "    return wrapper\n",
    "\n",
    "@error\n",
    "def test1():\n",
    "    return 1/2\n",
    "\n",
    "@error\n",
    "def test2():\n",
    "    return 1/0\n",
    "\n",
    "\n",
    "print(test1())\n",
    "print(test2())\n"
   ],
   "metadata": {
    "collapsed": false,
    "pycharm": {
     "name": "#%%\n"
    }
   }
  },
  {
   "cell_type": "markdown",
   "source": [
    "- api 통신중 인증이 필요로 할때\n"
   ],
   "metadata": {
    "collapsed": false
   }
  },
  {
   "cell_type": "code",
   "execution_count": null,
   "outputs": [],
   "source": [
    "@auth\n",
    "@app.route('/test/123')\n",
    "def test_123():\n",
    "    pass\n"
   ],
   "metadata": {
    "collapsed": false,
    "pycharm": {
     "name": "#%%\n"
    }
   }
  },
  {
   "cell_type": "markdown",
   "source": [
    "- 앞서 캐시가 존재하는지에 대한 여부를 확인 할때"
   ],
   "metadata": {
    "collapsed": false
   }
  },
  {
   "cell_type": "code",
   "execution_count": null,
   "outputs": [],
   "source": [
    "@cached\n",
    "def some_func():\n",
    "    pass\n",
    "\n"
   ],
   "metadata": {
    "collapsed": false,
    "pycharm": {
     "name": "#%%\n"
    }
   }
  },
  {
   "cell_type": "markdown",
   "source": [
    "## generator\n",
    "- iterator를 만들어주는것을 말한다\n",
    "- generator 객체에서 \\_\\_next__ 메서드를 호출할 때마다 함수 안의 yield 까지 코드를 실행하며<br>\n",
    " yield 에서 값을 발생(generate) 시킨다\n"
   ],
   "metadata": {
    "collapsed": false
   }
  },
  {
   "cell_type": "code",
   "execution_count": null,
   "outputs": [],
   "source": [
    "def square_numbers(nums):\n",
    "    result = []\n",
    "    for i in nums:\n",
    "        result.append(i * i)\n",
    "    return result\n",
    "\n",
    "my_nums = square_numbers([1, 2, 3, 4, 5])\n",
    "print(my_nums)"
   ],
   "metadata": {
    "collapsed": false,
    "pycharm": {
     "name": "#%%\n"
    }
   }
  },
  {
   "cell_type": "code",
   "execution_count": null,
   "outputs": [],
   "source": [
    "def square_numbers_generate(nums):\n",
    "    for i in nums:\n",
    "        yield i * i\n",
    "\n",
    "my_nums = square_numbers_generate(iter([1, 2, 3, 4, 5]))\n",
    "print(my_nums)\n",
    "print(next(my_nums))\n",
    "print(next(my_nums))\n",
    "print(next(my_nums))\n",
    "print(next(my_nums))\n",
    "print(next(my_nums))\n",
    "print(next(my_nums))\n"
   ],
   "metadata": {
    "collapsed": false,
    "pycharm": {
     "name": "#%%\n"
    }
   }
  },
  {
   "cell_type": "code",
   "execution_count": null,
   "outputs": [],
   "source": [
    "def square_numbers_generate(nums):\n",
    "    for i in nums:\n",
    "        yield i * i\n",
    "\n",
    "my_nums2 = square_numbers_generate([1, 2, 3, 4, 5])\n",
    "\n",
    "for num in my_nums2:\n",
    "    print(num)"
   ],
   "metadata": {
    "collapsed": false,
    "pycharm": {
     "name": "#%%\n"
    }
   }
  },
  {
   "cell_type": "markdown",
   "source": [
    "## 언제 혹은 어떻게 쓸까?"
   ],
   "metadata": {
    "collapsed": false
   }
  },
  {
   "cell_type": "code",
   "execution_count": null,
   "outputs": [],
   "source": [
    "import psutil\n",
    "import random\n",
    "import os\n",
    "import time\n",
    "\n",
    "names = ['A', 'B', 'C', 'D', 'E', 'F']\n",
    "majors = [1,2,3,4,5,6,7,8]\n",
    "\n",
    "process = psutil.Process(os.getpid())\n",
    "mem_before = process.memory_info().rss / 1024 / 1024\n",
    "\n",
    "def people_list(num_people):\n",
    "    result = []\n",
    "    for i in range(num_people):\n",
    "        person = {\n",
    "            'id': i,\n",
    "            'name': random.choice(names),\n",
    "            'major': random.choice(majors)\n",
    "        }\n",
    "        result.append(person)\n",
    "    return result\n",
    "\n",
    "t1 = time.clock()\n",
    "people = people_list(1000000)  #1 people_list를 호출\n",
    "t2 = time.clock()\n",
    "\n",
    "mem_after = process.memory_info().rss / 1024 / 1024\n",
    "total_time = t2 - t1\n",
    "\n",
    "print('시작 전 메모리 사용량: {} MB'.format(mem_before))\n",
    "print('종료 후 메모리 사용량: {} MB'.format(mem_after))\n",
    "print('총 소요된 시간: {:.6f} 초'.format(total_time))\n"
   ],
   "metadata": {
    "collapsed": false,
    "pycharm": {
     "name": "#%%\n"
    }
   }
  },
  {
   "cell_type": "code",
   "execution_count": null,
   "outputs": [],
   "source": [
    "import psutil\n",
    "import random\n",
    "import os\n",
    "import time\n",
    "\n",
    "names2 = ['A', 'B', 'C', 'D', 'E', 'F']\n",
    "majors2 = [1,2,3,4,5,6,7,8]\n",
    "\n",
    "process2 = psutil.Process(os.getpid())\n",
    "mem_before2 = process2.memory_info().rss / 1024 / 1024\n",
    "\n",
    "def people_generator(num_people):\n",
    "    for i in range(num_people):\n",
    "        person = {\n",
    "            'id': i,\n",
    "            'name': random.choice(names2),\n",
    "            'major': random.choice(majors2)\n",
    "        }\n",
    "        yield person\n",
    "\n",
    "t1 = time.clock()\n",
    "people2 = people_generator(1000000)  #1 people_generator를 호출\n",
    "t2 = time.clock()\n",
    "\n",
    "mem_after2 = process2.memory_info().rss / 1024 / 1024\n",
    "total_time2 = t2 - t1\n",
    "\n",
    "print('시작 전 메모리 사용량: {} MB'.format(mem_before2))\n",
    "print('종료 후 메모리 사용량: {} MB'.format(mem_after2))\n",
    "print('총 소요된 시간: {:.6f} 초'.format(total_time2))"
   ],
   "metadata": {
    "collapsed": false,
    "pycharm": {
     "name": "#%%\n"
    }
   }
  }
 ],
 "metadata": {
  "kernelspec": {
   "name": "pycharm-32b33b6a",
   "language": "python",
   "display_name": "PyCharm (week_04)"
  },
  "language_info": {
   "codemirror_mode": {
    "name": "ipython",
    "version": 2
   },
   "file_extension": ".py",
   "mimetype": "text/x-python",
   "name": "python",
   "nbconvert_exporter": "python",
   "pygments_lexer": "ipython2",
   "version": "2.7.6"
  }
 },
 "nbformat": 4,
 "nbformat_minor": 0
}