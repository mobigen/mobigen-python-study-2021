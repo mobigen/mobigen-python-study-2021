{
 "cells": [
  {
   "cell_type": "markdown",
   "id": "79c14226-6784-4c41-8ebc-ad5bf4082780",
   "metadata": {},
   "source": [
    "# Select"
   ]
  },
  {
   "cell_type": "markdown",
   "id": "f88c97ed-1621-4f6a-a682-5e1253493cb6",
   "metadata": {},
   "source": [
    "## 기존 소켓 방식의 문제점"
   ]
  },
  {
   "cell_type": "code",
   "execution_count": null,
   "id": "4134103c-a40d-492a-a1d2-209fcd090419",
   "metadata": {},
   "outputs": [],
   "source": [
    "import socket\n",
    "\n",
    "server_socket = socket.socket(socket.AF_INET, socket.SOCK_STREAM)\n",
    "server_socket.bind(('127.0.0.1', 10000))\n",
    "server_socket.listen(5)\n",
    "client_socket, addr = server_socket.accept()\n",
    "\n",
    "while True:\n",
    "    data = client_socket.recv(1024)\n",
    "    if data:\n",
    "        client_socket.sendall(data)\n",
    "    else:\n",
    "        break\n",
    "\n",
    "client_socket.close()\n",
    "server_socket.close()"
   ]
  },
  {
   "cell_type": "markdown",
   "id": "c50a4a89-22a0-483f-8c3a-893402b60748",
   "metadata": {},
   "source": [
    "앞서 socket에서 설명한 코드는 문제점이 있는데, 소켓 API의 함수들이 Blocking I/O 모드로 동작한다는 점이다.\n",
    "\n",
    "* `accept()`: 커넥션이 들어올때까지 **기다린다.**\n",
    "* `connet()`: 커넥션이 연결될때까지 **기다린다.**\n",
    "* `send()`: :데이터가 소켓의 버퍼에 들어갈때까지 **기다린다.**\n",
    "* `recv()`: 패킷이 받아질때까지 **기다린다.**\n",
    "\n",
    "즉, send, recv와 같은 함수들이 블로킹 상태가 되므로 여러 클라이언트와 동시에 데이터 송수신이 불가능하다. "
   ]
  },
  {
   "cell_type": "markdown",
   "id": "e2ba5b8a-cdc4-451a-a2ee-a76d45a4c33c",
   "metadata": {},
   "source": [
    "기존 소켓방식의 문제점을 해결하기위해, 다음과 같은 대안이 존재한다.\n",
    "\n",
    "1. \"멀티프로세스\"기반 서버\n",
    "2. \"멀티스레딩\"기반 서버\n",
    "3. \"멀티플렉싱\"기반 서버\n",
    "\n",
    "위의 방식을 사용하면 다수의 클라이언트와 통신이 가능해진다는것은 동일하나 차이점이 존재한다.\n",
    "\n",
    "<br/>\n",
    "\n",
    "### 멀티프로세스 기반 서버\n",
    "\n",
    "![mp](./img/img_multi_process.png)\n",
    "\n",
    "\n",
    "멀티프로세스 서버는 부모 프로세스가 소켓에서 accept(연결수립)시에<br/> \n",
    "자식 프로세스를 생성하고 클라이언트와 연결된 연결 소켓(소켓의 파일 디스크립터)을 자식 프로세스에게 전달하고 <br/>\n",
    "실질적인 송수신에 대한 처리는 자식 프로세스가 담당한다.\n",
    "\n",
    "다수의 프로세스를 사용하는 멀티프로세스 기반의 서버는 각 프로세스가 서로 간섭없이 독립적으로 수행된다는 장점이 있으나\n",
    "\n",
    "프로세스는 상당히 비싼 자원이므로 프로세스의 빈번한 생성은 성능저하를 야기할 수 있다.\n",
    "\n",
    "<br/>\n",
    "\n",
    "\n",
    "### 멀티스레딩 기반 서버\n",
    "\n",
    "![mt](./img/img_multi_thread.png)\n",
    "\n",
    "멀티프로세스와 유사하게 연결이 생성될때마다 프로세스가 대신 스레드를 생성하는 방식이다.\n",
    "\n",
    "메인 스레드가 소켓에서 accept시에 클라이언트와 연결된 연결 소켓(소켓의 파일 디스크립터)을 별도의 워커 스레드를 생성하여 넘겨준다.<br/>\n",
    "실질적인 데이터 송수신처리는 워커 스레드에서 처리된다.<br/>\n",
    "\n",
    "프로세스에 대한 비용보다 상대적으로 스레드 생성에 대한 리소스 비용이 적은 것은 맞으나 \n",
    "\n",
    "멀티플렉싱을 사용하면 멀티스레딩을 사용하는 방식보다 훨씬 적은 비용으로 개별 클라이언트에 대한 요청을 처리할수 있다.\n",
    "\n"
   ]
  },
  {
   "cell_type": "code",
   "execution_count": null,
   "id": "07d070e3-4bff-4fca-a6be-367d2c5fb045",
   "metadata": {},
   "outputs": [],
   "source": [
    "def handle_client(conn, addr):\n",
    "    with conn:\n",
    "        data = conn.recv(1024)\n",
    "        conn.sendall(data)\n",
    "        \n",
    "                \n",
    "with socket.socket(socket.AF_INET, socket.SOCK_STREAM) as s:\n",
    "    server_socket.bind(('127.0.0.1', 10000))\n",
    "    server_socket.listen()\n",
    "\n",
    "    while True:\n",
    "        conn, addr = server_socket.accept()\n",
    "        t = threading.Thread(target=handle_client, args=(conn, addr))\n",
    "        t.start()"
   ]
  },
  {
   "cell_type": "markdown",
   "id": "ef220b08-41ea-4207-9d98-9701efb164e8",
   "metadata": {},
   "source": [
    "<br/>\n",
    "\n",
    "### 멀티플렉싱 기반 서버\n",
    "멀티플렉싱을 사용하면 각 클라이언트마다 별도의 스레드를 생성하는 것이 아닌<br/>\n",
    "하나의 스레드에서 다수의 클라이언트에 연결된 연결 소켓(파일 디스크립터)을 관리하고<br>\n",
    "소켓에 IO가 발생할때만 별도의 스레드를 만들어 해당 이벤트를 처리하도록 구현가능하다.\n",
    "\n",
    "파이썬에서는 select 모듈을 사용하여 I/O 멀티플렉싱을 사용가능하다."
   ]
  },
  {
   "cell_type": "markdown",
   "id": "6f6a943c-8fcb-46f9-8f6f-6c9e34ec407b",
   "metadata": {},
   "source": [
    "![mp](./img/img_select_model.png)\n",
    "\n",
    "select 방식은 이벤트(입력, 출력, 에러)별로 감시할 파일들을 fd_set라는 파일 상태 테이블에 등록하고<br/>\n",
    "등록된 파일(파일 디스크립터)에 어떤 이벤트가 발생했을 경우 fd_set를 확인하여 처리하는 방식으로 동작한다."
   ]
  },
  {
   "cell_type": "markdown",
   "id": "ee38b613-7a64-448a-a91d-ae87d4efd153",
   "metadata": {},
   "source": [
    "## Select를 적용한 소켓"
   ]
  },
  {
   "cell_type": "code",
   "execution_count": null,
   "id": "3490ab58-7161-4b2e-b381-8a593e10cc9f",
   "metadata": {},
   "outputs": [],
   "source": [
    "import socket\n",
    "import select\n",
    "\n",
    "server_socket = socket.socket(socket.AF_INET, socket.SOCK_STREAM)\n",
    "server_socket.bind(('127.0.0.1', 10000))\n",
    "server_socket.listen()\n",
    "\n",
    "readsocks = [server_socket]\n",
    "\n",
    "while True:\n",
    "    readables, writeables, excpetions = select.select(readsocks, [], [])\n",
    "    for sock in readables:\n",
    "        if sock == server_socket: # 신규 클라이언트 접속\n",
    "            client_socket, addr = server_socket.accept()\n",
    "            readsocks.append(client_socket)\n",
    "            \n",
    "        else: # 이미 접속한 클라이언트의 요청\n",
    "            conn = sock\n",
    "            data = conn.recv(1024)\n",
    "            conn.sendall(data)\n",
    "            conn.close()\n",
    "            readsocks.remove(conn) # 클라이언트 접속 해제시 readsocks에서 제거"
   ]
  },
  {
   "cell_type": "markdown",
   "id": "28f40e3c-6a9e-4f9f-b687-80326e9b52a1",
   "metadata": {},
   "source": [
    "바뀐 소켓코드에서 핵심되는 부분은 다음 부분이다."
   ]
  },
  {
   "cell_type": "code",
   "execution_count": null,
   "id": "34f1c8f6-563b-4a63-87b6-61b86d35cd2b",
   "metadata": {},
   "outputs": [],
   "source": [
    "readables, writeables, excpetions = select.select(readsocks, [], [])"
   ]
  },
  {
   "cell_type": "markdown",
   "id": "12f72e3f-abb9-4ea5-9f5f-407db2287768",
   "metadata": {},
   "source": [
    "해당 코드는 readsocks에 포함된 소켓에서 이벤트가 발생하는지 감시하는 역할을 수행하며 (이때는 블로킹)<br/>\n",
    "감시하다가 readsocks에 속한 소켓에 이벤트가 발생하면 이후 코드가 실행된다.\n",
    "\n",
    "select함수의 리턴값으로 받는 값들은 셋다 리스트이며 다음을 의미한다.\n",
    "* `readables`: 수신한 데이터를 지니고 있는 소켓\n",
    "* `writables`: 블로킹되지 않고 데이터의 전송이 가능한 소켓\n",
    "* `exceptions`: 예외 상황이 발생한 소켓\n",
    "\n",
    "위의 전체 소켓코드를 간략히 설명하면\n",
    "\n",
    "1. `readsocks` 리스트에 서버소켓을 추가하여 select가 서버소켓에 클라이언트가 접속하는지를 감시시킨다.\n",
    "2. 신규 클라이언트가 접속하면 `readsocks` 리스트에 신규 클라이언트의 소켓을 추가한다.\n",
    "3. 신규 클라이언트에서 요청이 발생하면 else문이 수행되어 데이터 송수신 처리를 수행한다."
   ]
  }
 ],
 "metadata": {
  "kernelspec": {
   "display_name": "Python 3 (ipykernel)",
   "language": "python",
   "name": "python3"
  },
  "language_info": {
   "codemirror_mode": {
    "name": "ipython",
    "version": 3
   },
   "file_extension": ".py",
   "mimetype": "text/x-python",
   "name": "python",
   "nbconvert_exporter": "python",
   "pygments_lexer": "ipython3",
   "version": "3.9.6"
  }
 },
 "nbformat": 4,
 "nbformat_minor": 5
}
