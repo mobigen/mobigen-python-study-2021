{
 "cells": [
  {
   "cell_type": "markdown",
   "id": "884c19e3-56c4-4041-8720-5ac951fa4e93",
   "metadata": {},
   "source": [
    "# asyncio\n",
    "\n",
    "## 동기(Syncronous)와 비동기(Asyncronous)\n",
    "\n",
    "### 동기\n",
    "![sync](./img/img_sync.png)\n",
    "* 일련의 작업이 완료되어야만 다음 작업이 순차적으로 이루어지는 방식이다.\n",
    "* 작업이 완료되기까지 다음 작업은 블로킹(blocking)된다.\n",
    "\n",
    "### 비동기\n",
    "![async](./img/img_async.png)\n",
    "* 작업의 완료여부와 상관없이 다음 작업이 진행되는 방식이다.\n",
    "* 다음작업은 기존 작업이 완료되기전까지 대기할 필요가 없으므로(non-blocking) 다음 작업을 동시간대에 수행가능하다.\n",
    "\n",
    "\n",
    "## asyncio"
   ]
  },
  {
   "cell_type": "markdown",
   "id": "32b18dbd-cd30-4107-9159-ea5133f1d7bf",
   "metadata": {},
   "source": [
    "\n",
    "서버 애플리케이션을 예시로 들면 애플리케이션 내부에서 지역적으로 처리되는 CPU 연산시간에 비해서 DB나 API과의 연동과정에서 발생하는 대기시간이 상대적으로 훨씬 길다.\n",
    "\n",
    "이런 경우, 동기방식으로 시스템을 구성한다면 애플리케이션은 자원을 효율적으로 운영하지 못할뿐더러<br/>\n",
    "요청으로부터 발생하는 하나의 작업의 응답이 길어지게된다.\n",
    "\n",
    "파이썬 3.4에서 표준 라이브러리로 추가된 `asyncio`를 사용한다면 비동기 프로그래밍이 가능하며<br/>\n",
    "대기시간이 걸리는 작업들을 기다릴 필요없이 보다 효율적으로 자원의 운영및 응답에 대한 향상을 가질 수 있다."
   ]
  },
  {
   "cell_type": "markdown",
   "id": "571ef514-663d-40aa-acf5-504d65d4bba4",
   "metadata": {},
   "source": [
    "### 기본 사용법\n",
    "\n",
    "`def` 키워드로 선언된 모든 함수는 파이썬에서 동기방식으로 동작하는데<br/>\n",
    "`def` 키워드 앞에 `async`를 붙이면 해당 함수는 비동기 방식으로 처리되고 이러한 비동기 함수를 파이썬에서는 **코루틴**이라고 부른다.\n",
    "\n",
    "실제 코드상에서 비동기함수를 호출하면 coroutine 객체가 리턴되는 것을 확인할 수 있다."
   ]
  },
  {
   "cell_type": "code",
   "execution_count": 8,
   "id": "723c1600-6f30-4fe5-94ad-354891a06b5d",
   "metadata": {},
   "outputs": [],
   "source": [
    "def do_sync():\n",
    "    pass"
   ]
  },
  {
   "cell_type": "code",
   "execution_count": 9,
   "id": "6800f253-db91-4ad5-880f-70faa108c70b",
   "metadata": {},
   "outputs": [],
   "source": [
    "async def do_async():\n",
    "    pass"
   ]
  },
  {
   "cell_type": "code",
   "execution_count": 10,
   "id": "5af96ec6-cd70-4640-9af6-97db483f72ea",
   "metadata": {},
   "outputs": [
    {
     "data": {
      "text/plain": [
       "<coroutine object do_async at 0xffff68aff7c0>"
      ]
     },
     "execution_count": 10,
     "metadata": {},
     "output_type": "execute_result"
    }
   ],
   "source": [
    "do_async()"
   ]
  },
  {
   "cell_type": "markdown",
   "id": "47d9a5ed-c8e8-4c1a-a9a9-74e4ef620891",
   "metadata": {},
   "source": [
    "async로 선언되지 않은 일반 동기 함수에서는 비동기 함수를 호출하려면 asyncio 라이브러리의 이벤트 루프를 사용해야 하며,<br/>\n",
    "비동기 함수에서 또다른 비동기함수를 사용하려면 `await` 키워드를 붙여서 호출해줘야 한다."
   ]
  },
  {
   "cell_type": "code",
   "execution_count": 17,
   "id": "37ec3597-8057-4608-999a-aeb47b7e495f",
   "metadata": {},
   "outputs": [],
   "source": [
    "async def main_async():\n",
    "    await do_async()"
   ]
  },
  {
   "cell_type": "code",
   "execution_count": null,
   "id": "33d4b197-abc0-4375-9c3a-55706a5a3044",
   "metadata": {},
   "outputs": [],
   "source": [
    "# 파이썬 3.7 이전의 방식\n",
    "loop = asyncio.get_event_loop()\n",
    "loop.run_until_complete(main_async())\n",
    "loop.close()\n",
    "\n",
    "# 파이썬 3.7 이상의 방식\n",
    "asyncio.run(main_async())"
   ]
  },
  {
   "cell_type": "markdown",
   "id": "e93d1e63-a865-49ba-8d0e-ae2690d62144",
   "metadata": {},
   "source": [
    "### 동기 방식"
   ]
  },
  {
   "cell_type": "code",
   "execution_count": 19,
   "id": "e5bf2232-b588-481e-9aeb-4c4016ce4983",
   "metadata": {},
   "outputs": [
    {
     "name": "stdout",
     "output_type": "stream",
     "text": [
      "3명 중 1번 째 사용자 조회 중 ...\n",
      "3명 중 2번 째 사용자 조회 중 ...\n",
      "3명 중 3번 째 사용자 조회 중 ...\n",
      "> 총 3 명 사용자 동기 조회 완료!\n",
      "2명 중 1번 째 사용자 조회 중 ...\n",
      "2명 중 2번 째 사용자 조회 중 ...\n",
      "> 총 2 명 사용자 동기 조회 완료!\n",
      "1명 중 1번 째 사용자 조회 중 ...\n",
      "> 총 1 명 사용자 동기 조회 완료!\n",
      ">>> 동기 처리 총 소요 시간: 6.02776312828064\n"
     ]
    }
   ],
   "source": [
    "import time\n",
    "\n",
    "def find_users_sync(n):\n",
    "    for i in range(1, n + 1):\n",
    "        print(f'{n}명 중 {i}번 째 사용자 조회 중 ...')\n",
    "        time.sleep(1)\n",
    "    print(f'> 총 {n} 명 사용자 동기 조회 완료!')\n",
    "    \n",
    "def process_sync():\n",
    "    start = time.time()\n",
    "    find_users_sync(3)\n",
    "    find_users_sync(2)\n",
    "    find_users_sync(1)\n",
    "    end = time.time()\n",
    "    print(f'>>> 동기 처리 총 소요 시간: {end - start}')\n",
    "\n",
    "if __name__ == '__main__':\n",
    "    process_sync()"
   ]
  },
  {
   "cell_type": "markdown",
   "id": "e3b1a793-6054-4fde-9aad-906083d2b982",
   "metadata": {},
   "source": [
    "### 비동기 방식"
   ]
  },
  {
   "cell_type": "code",
   "execution_count": 2,
   "id": "bf8c3e9b-bb31-48c4-ba67-f6fb69340258",
   "metadata": {},
   "outputs": [
    {
     "name": "stdout",
     "output_type": "stream",
     "text": [
      "3명 중 1번 째 사용자 조회 중 ...\n",
      "2명 중 1번 째 사용자 조회 중 ...\n",
      "1명 중 1번 째 사용자 조회 중 ...\n",
      "3명 중 2번 째 사용자 조회 중 ...\n",
      "2명 중 2번 째 사용자 조회 중 ...\n",
      "> 총 1 명 사용자 비동기 조회 완료!\n",
      "3명 중 3번 째 사용자 조회 중 ...\n",
      "> 총 2 명 사용자 비동기 조회 완료!\n",
      "> 총 3 명 사용자 비동기 조회 완료!\n",
      ">>> 비동기 처리 총 소요 시간: 3.0184249877929688\n"
     ]
    }
   ],
   "source": [
    "import time\n",
    "import asyncio\n",
    "import nest_asyncio\n",
    "\n",
    "\n",
    "async def find_users_async(n):\n",
    "    for i in range(1, n + 1):\n",
    "        print(f'{n}명 중 {i}번 째 사용자 조회 중 ...')\n",
    "        await asyncio.sleep(1)\n",
    "    print(f'> 총 {n} 명 사용자 비동기 조회 완료!')\n",
    "    \n",
    "async def process_async():\n",
    "    start = time.time()\n",
    "    await asyncio.wait([\n",
    "        asyncio.create_task(find_users_async(3)),\n",
    "        asyncio.create_task(find_users_async(2)),\n",
    "        asyncio.create_task(find_users_async(1))\n",
    "    ])\n",
    "    end = time.time()\n",
    "    print(f'>>> 비동기 처리 총 소요 시간: {end - start}')\n",
    "\n",
    "if __name__ == '__main__':\n",
    "    nest_asyncio.apply() # jupyter에서 async를 사용하기위해서 적용\n",
    "    loop = asyncio.get_event_loop()\n",
    "    asyncio.run(process_async())"
   ]
  },
  {
   "cell_type": "code",
   "execution_count": null,
   "id": "047d2330-b5e0-4ae2-a8e4-3f71046bc314",
   "metadata": {},
   "outputs": [],
   "source": []
  }
 ],
 "metadata": {
  "kernelspec": {
   "display_name": "Python 3 (ipykernel)",
   "language": "python",
   "name": "python3"
  },
  "language_info": {
   "codemirror_mode": {
    "name": "ipython",
    "version": 3
   },
   "file_extension": ".py",
   "mimetype": "text/x-python",
   "name": "python",
   "nbconvert_exporter": "python",
   "pygments_lexer": "ipython3",
   "version": "3.9.6"
  }
 },
 "nbformat": 4,
 "nbformat_minor": 5
}
