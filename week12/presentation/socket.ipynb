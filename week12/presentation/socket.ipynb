{
 "cells": [
  {
   "cell_type": "markdown",
   "id": "7bd709d8-672b-4471-8298-1dc0f6f83e8a",
   "metadata": {},
   "source": [
    "# Socket\n",
    "\n",
    "![socket](./img/img_socket.png)\n",
    "\n",
    "두 프로그램이 네트워크상에서 데이터를 서로 송수신 할 수 있도록 양쪽에 생성되는 연결부이다.\n",
    "\n",
    "소켓은 수행하는 역할에따라 두 종류의 소켓으로 나뉘는데\n",
    "\n",
    "데이터를 요청하는 클라이언트 소켓, 그리고 클라이언트의 요청을받아 데이터를 서빙하는 서버 소켓으로 나뉜다.\n",
    "\n",
    "\n",
    "## 소켓 API의 실행흐름\n",
    "\n",
    "앞서 언급한 서버 소켓과 클라이언트 소켓은 다음과 같은 일련의과정을 통해서 연결을 수립하고 데이터 송수신을 수행한다.\n",
    "\n",
    "![socket-flow](./img/img_socket_flow.png)\n",
    "\n",
    "### 클라이언트 소켓\n",
    "\n",
    "1. socket\n",
    "    * 소켓을 생성하는 단계이다. 최초 소켓이 만들어지는 시점에는 어떠한 연결 대상 정보도 들어있지 않다.\n",
    "2. connect\n",
    "    * \"IP주소\"와 \"포트번호\"로 식별되는 서버 소켓에게 연결 요청을 보낸다.\n",
    "    * connect()는 기본적으로 블로킹 방식으로 동작한다. \n",
    "    * 즉, 서버 소켓과 연결 요청에 대한 결과가 결정되기 전까지는 connect()의 실행이 끝나지 않는다는 것을 의미한다.\n",
    "3. send / recv\n",
    "    * 데이터를 송수신하는 단계다.\n",
    "    * send(), recv()는 connect()와 마찬가지로 블로킹 방식으로 동작한다.\n",
    "4. close\n",
    "    * 데이터 송수신이 모두 완료되면 close()를 사용하여 소켓을 닫는다.\n",
    "        \n",
    "<br/>\n",
    "\n",
    "### 서버 소켓\n",
    "\n",
    "1. socket\n",
    "    * 클라이언트 소켓과 동일하게 소켓을 생성하는 단계다.\n",
    "2. bind\n",
    "    * 운영체제가 특정 포트번호를 서버 소켓이 사용하도록 소켓과 포트 번호를 바인딩하는 단계다.\n",
    "3. listen\n",
    "    * 서버 소켓은 바인딩된 포트 번호로 클라이언트의 요청이 있는지 확인하며 대기상태에 머무른다.\n",
    "    * 대기상태에서 빠져나오는 경우는 클라이언트로부터 요청이 수신되는 경우와, 에러가 발생되는 경우다.\n",
    "      (연결 요청이 수신되었으면 SUCCESS, 에러가 발생하면 FAIL)\n",
    "    * 클라이언트 연결요청이 들어오면 연결요청에 대한 정보는 시스템 내부적으로 관리되는 큐에 쌓이게된다.\n",
    "4. accept\n",
    "    * 최종적으로 클라이언트의 연결 요청을 받아들이는 단계다.\n",
    "    * 큐에 쌓여있는 첫번째 연결요청을 매핑하여 이후의 단계를 수행한다.\n",
    "5. send / recv\n",
    "    * 클라이언트 소켓과 마찬가지로 데이터 송수신을 수행한다.\n",
    "6. close\n",
    "    * 클라이언트 소켓과 마찬가지로 close()를 통해 소켓을 닫는다.\n",
    "\n",
    "<br/>"
   ]
  },
  {
   "cell_type": "markdown",
   "id": "d11ba934-3f66-43ea-896f-b86b50216cb7",
   "metadata": {},
   "source": [
    "## 파이썬에서 Socket의 사용\n",
    "\n",
    "우선 파이썬에서 제공하는 socket 모듈을 임포트한다."
   ]
  },
  {
   "cell_type": "code",
   "execution_count": 3,
   "id": "f0f29e81-a6be-4fb8-8f59-02766a4e731b",
   "metadata": {},
   "outputs": [],
   "source": [
    "import socket"
   ]
  },
  {
   "cell_type": "markdown",
   "id": "0267c69d-ffae-4016-ba9d-b588d8b2e691",
   "metadata": {},
   "source": [
    "### 클라이언트 소켓"
   ]
  },
  {
   "cell_type": "code",
   "execution_count": null,
   "id": "997b2bdd-37b4-4c1b-8ad9-7a2c3f55a642",
   "metadata": {},
   "outputs": [],
   "source": [
    "import socket\n",
    "\n",
    "client_socket = socket.socket(socket.AF_INET, socket.SOCK_STREAM)\n",
    "client_socket.connect((\"127.0.0.1\", 10000))\n",
    "\n",
    "try:\n",
    "    client_socket.send('Hello World!'.encode())\n",
    "    msg = client_socket.recv(1024)\n",
    "    print(msg.decode())\n",
    "\n",
    "finally:\n",
    "    client_socket.close()"
   ]
  },
  {
   "cell_type": "markdown",
   "id": "25782250-e4f9-49f4-a0d8-17aeb24c4da9",
   "metadata": {},
   "source": [
    "#### 1. socket\n",
    "\n",
    "socket 생성을위해 socket함수에 \"주소 체계\"와 \"소켓 유형\"에 대한 두가지 인자를 전달한다."
   ]
  },
  {
   "cell_type": "code",
   "execution_count": null,
   "id": "f04cbcb5-3aed-4c03-88b6-0bcbdd9e9545",
   "metadata": {},
   "outputs": [],
   "source": [
    "client_socket = socket(socket.AF_INET, socket.SOCK_STREAM)"
   ]
  },
  {
   "cell_type": "markdown",
   "id": "54853188-1628-4d9d-964a-0aad61e0a1ac",
   "metadata": {},
   "source": [
    "소켓이 만들어진 당시에는 인터넷 외에도 다른 프로토콜도 고려해서 만들어졌는데,<br/>\n",
    "인터넷 기반의 통신을 사용하기 위해서는 `AF_INET`을 주소 체계의 인자로 전달하면 된다.\n",
    "\n",
    "소켓 유형은 다음과 같이 3개로 분류 가능하다.\n",
    "1. `SOCK_STREAM`\n",
    "    * 연결형 서비스를 지원하며 AF_INET에서는 TCP 프로토콜을 사용\n",
    "2. `SOCK_DGRM`\n",
    "    * SOCK_DGRM은 비연결형 서비스를 지원하며 AF_INET에서는 UDP 프로토콜을 사용\n",
    "3. `SOCK_RAW`\n",
    "    * IP 프로토콜을 사용하는 방법이다.\n",
    "    \n",
    "소켓 유형에 대해서 요약하면 TCP를 사용하고 싶다면 SOCK_STREAM을 <br/>\n",
    "UDP를 사용하고 싶다면 SOCK_DGRM을 쓰면된다."
   ]
  },
  {
   "cell_type": "markdown",
   "id": "83d2aca7-f6e0-43c3-a095-b09a8e803bc9",
   "metadata": {},
   "source": [
    "#### 2. connect\n",
    "\n",
    "서버 소켓의 IP와 Port번호가 포함된 튜플을 파라미터로 전달하여 서버 소켓과 연결을 시도한다.\n",
    "\n",
    "connect를 호출하면 요청에 대한 결과가 결정되기전까지 블로킹된다."
   ]
  },
  {
   "cell_type": "code",
   "execution_count": null,
   "id": "d746ba97-0bbb-47c6-8c15-a357f3e76d47",
   "metadata": {},
   "outputs": [],
   "source": [
    "client_socket.connect((\"127.0.0.1\", 10000))"
   ]
  },
  {
   "cell_type": "markdown",
   "id": "6ad6e63f-9cf6-4215-b167-64cc263e9219",
   "metadata": {},
   "source": [
    "#### 3. send / recv\n",
    "\n",
    "앞선단계에서 connect를 통해 연결 요청이 성공하면, 아래의 예시 코드처럼<br/>\n",
    "send와 recv를 통해 서버 소켓과 데이터를 송수신 가능하다."
   ]
  },
  {
   "cell_type": "code",
   "execution_count": null,
   "id": "7984bd45-8c92-4509-be52-cb0acd767faa",
   "metadata": {},
   "outputs": [],
   "source": [
    "try:\n",
    "    client_socket.send('Hello World!'.encode())\n",
    "    msg = client_socket.recv(1024)\n",
    "    print(msg.decode())"
   ]
  },
  {
   "cell_type": "markdown",
   "id": "66d869b8-bb19-4415-beb3-783e8d2fd32e",
   "metadata": {},
   "source": [
    "#### 4. close\n",
    "\n",
    "데이터 송수신이 완료되면 소켓을 닫는다."
   ]
  },
  {
   "cell_type": "code",
   "execution_count": null,
   "id": "bf43ee0d-3a6e-4017-be79-948f6926f847",
   "metadata": {},
   "outputs": [],
   "source": [
    "finally:\n",
    "    clientSocket.close()"
   ]
  },
  {
   "cell_type": "markdown",
   "id": "5f5b5cac-7c32-44de-9899-b00b190161ca",
   "metadata": {},
   "source": [
    "<br/>\n",
    "\n",
    "### 서버 소켓"
   ]
  },
  {
   "cell_type": "code",
   "execution_count": null,
   "id": "d28f6502-d96b-41a2-9df0-18915991799b",
   "metadata": {},
   "outputs": [],
   "source": [
    "import socket\n",
    "\n",
    "server_socket = socket.socket(socket.AF_INET, socket.SOCK_STREAM)\n",
    "server_socket.bind(('127.0.0.1', 10000))\n",
    "server_socket.listen(5)\n",
    "client_socket, addr = server_socket.accept()\n",
    "\n",
    "while True:\n",
    "    data = client_socket.recv(1024)\n",
    "    if data:\n",
    "        client_socket.sendall(data)\n",
    "    else:\n",
    "        break\n",
    "\n",
    "client_socket.close()\n",
    "server_socket.close()"
   ]
  },
  {
   "cell_type": "markdown",
   "id": "db40b0da-336b-4783-92e8-93f48bcea5bf",
   "metadata": {},
   "source": [
    "#### 1. socket\n",
    "클라이언트 소켓과 마찬가지로 서버소켓도 주소체계와 소켓유형을 설정하여 소켓을 생성한다."
   ]
  },
  {
   "cell_type": "code",
   "execution_count": null,
   "id": "b6553873-8f81-423a-a67d-027cd6ee7b0e",
   "metadata": {},
   "outputs": [],
   "source": [
    "server_socket = socket(socket.AF_INET, socket.SOCK_STREAM)"
   ]
  },
  {
   "cell_type": "markdown",
   "id": "ce1aef38-b6b1-4459-860c-d4bf563e7c88",
   "metadata": {},
   "source": [
    "#### 2. bind\n",
    "\n",
    "방금 생성한 소켓에 특정포트를 바인딩한다."
   ]
  },
  {
   "cell_type": "code",
   "execution_count": null,
   "id": "6b3dfd52-60f0-4af1-ab31-33fd34b9b6a1",
   "metadata": {},
   "outputs": [],
   "source": [
    "server_socket.connect((\"127.0.0.1\", 10000))"
   ]
  },
  {
   "cell_type": "markdown",
   "id": "3d0287a3-177e-42f5-924a-f87a72b1cb3e",
   "metadata": {},
   "source": [
    "#### 3. listen\n",
    "\n",
    "listen함수를 통해 클라이언트의 요청을 대기한다. \n",
    "\n",
    "함수 호출시 인자를 통해 처리가능한 최대 연결의 수를 지정할 수 있다."
   ]
  },
  {
   "cell_type": "code",
   "execution_count": null,
   "id": "fcc0d6f3-0169-4e9e-ad92-f5b65021385f",
   "metadata": {},
   "outputs": [],
   "source": [
    "server_socket.listen(5)"
   ]
  },
  {
   "cell_type": "markdown",
   "id": "e894d3ce-0784-4988-b3b7-3421f80c90f1",
   "metadata": {},
   "source": [
    "#### 4. accept\n",
    "\n",
    "클라이언트와 연결을 수립하며, 클라이언트 소켓과 클라이언트의 주소를 반환받는다."
   ]
  },
  {
   "cell_type": "code",
   "execution_count": null,
   "id": "44974439-f470-422d-a611-952019ef0aa0",
   "metadata": {},
   "outputs": [],
   "source": [
    "client_socket, addr = server_socket.accept()"
   ]
  },
  {
   "cell_type": "markdown",
   "id": "25650141-6a25-43bb-9ef6-f6fe15fdefac",
   "metadata": {},
   "source": [
    "#### 5. send / recv\n",
    "\n",
    "클라이언트로부터 데이터를 수신받고 송신받는 동작을 수행하다가 <br/>\n",
    "더이상 전송할 데이터가 없으면 데이터 송수신을 종료한다."
   ]
  },
  {
   "cell_type": "code",
   "execution_count": null,
   "id": "1d6ffc22-09c5-4619-a58c-de2d7a97c007",
   "metadata": {},
   "outputs": [],
   "source": [
    "while True:\n",
    "    # 데이터 수신\n",
    "    data = client_socket.recv(1024)\n",
    "    \n",
    "    # 데이터 송신 (여기서는 테스트를 위해서 수신받은 데이터 송신)\n",
    "    if data:\n",
    "        client_socket.sendall(data)\n",
    "        \n",
    "    # 전송할 데이터가 없으면 데이터송수신 종료\n",
    "    else: \n",
    "        break"
   ]
  },
  {
   "cell_type": "markdown",
   "id": "d5508be9-c86a-4106-b824-e84dd1fbd390",
   "metadata": {},
   "source": [
    "#### 6. close\n",
    "\n",
    "클라이언트 소켓과 마찬가지로 서버 소켓도 데이터 송수신 완료후 소켓을 닫는다."
   ]
  },
  {
   "cell_type": "code",
   "execution_count": null,
   "id": "a4118aad-f496-4854-afd3-11388198df78",
   "metadata": {},
   "outputs": [],
   "source": [
    "client_socekt.close()\n",
    "server_socket.close()"
   ]
  }
 ],
 "metadata": {
  "kernelspec": {
   "display_name": "Python 3 (ipykernel)",
   "language": "python",
   "name": "python3"
  },
  "language_info": {
   "codemirror_mode": {
    "name": "ipython",
    "version": 3
   },
   "file_extension": ".py",
   "mimetype": "text/x-python",
   "name": "python",
   "nbconvert_exporter": "python",
   "pygments_lexer": "ipython3",
   "version": "3.9.6"
  }
 },
 "nbformat": 4,
 "nbformat_minor": 5
}
